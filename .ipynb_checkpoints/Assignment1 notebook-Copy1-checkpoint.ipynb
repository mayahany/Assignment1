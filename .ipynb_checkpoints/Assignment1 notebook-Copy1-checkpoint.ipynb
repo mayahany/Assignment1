{
 "cells": [
  {
   "cell_type": "markdown",
   "id": "e796fb49",
   "metadata": {},
   "source": [
    "## Assignment 1: Data Analysis - Kershaw Pitch Data\n",
    "\n",
    "\n",
    "Group members : \n",
    "\n",
    "Maya Elshweikhy - 900204233\n",
    "\n",
    "Youssef Aboukhatwa - 900211153\n",
    "\n",
    "Ali Baligh - \n",
    "\n",
    "\n",
    "### Kershaw Pitch Data Description \n",
    " \n",
    "In this python notebook, we will be representing a description of the variables in the data Kershaw by using visuals and graphs to analyze the data. This data is Pitch-by-pitch data for baseball pitcher Clayton Kershaw in the 2013 season. Dataset includes information for 3,402 individual pitches thrown by Los Angeles Dodger baseball pitcher Clayton Kershaw during the 2013 regular season when he won the Cy Young award as the best pitcher in the National League. Many variables are measured using Major League Baseball's PITCHf/x system that uses camera systems in each ballpark to track characteristics of each pitch thrown. It is a data frame with 3402 observations on 24 variables.\n",
    "\n",
    "### Variables\n",
    "\n",
    "+ BatterNumber: Number of batters faced so far that game\n",
    "\n",
    "+ Outcome: One of 14 possible results for a pitch (e.g. Ball, Ball In Dirt, Called Strike, ..., Swinging Strike (Blocked))\n",
    "\n",
    "+ Class: One of three classifications (B=ball, S=strike, or X=in play)\n",
    "\n",
    "+ Result: From pitcher's perspective (Neg=ball or hit, Pos=strike or out)\n",
    "\n",
    "+ Swing: Did the batter swing at the pitch? (No or Yes)\n",
    "\n",
    "+ Time: Date and time of the pitch (format yyyy-mm-ddThh:mm:ssZ)\n",
    "\n",
    "+ StartSpeed: Speed leaving the pitcher's hand (in mph)\n",
    "\n",
    "+ EndSpeed: Speed crossing home plate (in mph)\n",
    "\n",
    "+ HDev: Horizontal movement (inches)\n",
    "\n",
    "+ VDev: Vertical movement (inches)\n",
    "\n",
    "+ HPos: Horizontal position at home plate (inches from center, positive is catcher's right)\n",
    "\n",
    "+ VPos: Vertical position at home plate (inches above the ground)\n",
    "\n",
    "+ PitchType: Code for pitch type (CH=changeup, CU=curve, FF=fastball, or SL=slider)\n",
    "\n",
    "+ Zone: 1-9 in theoretical strike zone (upper left to lower right), 11-14 are out of strike zone\n",
    "\n",
    "+ Nasty: A measure on a 0-100 scale of difficulty of the pitch to hit (100 is most difficult)\n",
    "\n",
    "+ Count: Ball strike count (0-0, 0-1, 0-2, 1-1, 1-2, 2-1, 2-2, 3-1, or 3-2)\n",
    "\n",
    "+ BallCount: Number of balls before the pitch (0, 1, 2, or 3)\n",
    "\n",
    "+ StrikeCount: Number of strikes before the pitch (0, 1, or 2)\n",
    "\n",
    "+ Inning: Inning of the game\n",
    "\n",
    "+ InningSide: Portion of the inning (bottom= pitcher at home or top=pitcher away)\n",
    "\n",
    "+ Outs: Number of outs when the pitch is thrown\n",
    "\n",
    "+ BatterHand: Batter's stance (L=left or R=right)\n",
    "\n",
    "+ ABEvent: Result of the at bat (several possibilities)\n",
    "\n",
    "+ Batter: Name of the batter faced\n",
    "\n",
    "\n",
    "### Source\n",
    "Data scraped from the MLB GameDay website (http://gd2.mlb.com/components/game/mlb/) using pitchRx\n",
    "\n",
    "\n",
    "\n",
    "\n"
   ]
  },
  {
   "cell_type": "markdown",
   "id": "0cf918ae",
   "metadata": {},
   "source": [
    "## Part One\n"
   ]
  },
  {
   "cell_type": "code",
   "execution_count": 1,
   "id": "4151850c",
   "metadata": {},
   "outputs": [],
   "source": [
    "import pandas as pd"
   ]
  },
  {
   "cell_type": "code",
   "execution_count": 2,
   "id": "f476bb41",
   "metadata": {},
   "outputs": [],
   "source": [
    "df=pd.read_csv('Kershaw.csv')"
   ]
  },
  {
   "cell_type": "code",
   "execution_count": 3,
   "id": "756d65b9",
   "metadata": {
    "scrolled": false
   },
   "outputs": [
    {
     "data": {
      "text/html": [
       "<div>\n",
       "<style scoped>\n",
       "    .dataframe tbody tr th:only-of-type {\n",
       "        vertical-align: middle;\n",
       "    }\n",
       "\n",
       "    .dataframe tbody tr th {\n",
       "        vertical-align: top;\n",
       "    }\n",
       "\n",
       "    .dataframe thead th {\n",
       "        text-align: right;\n",
       "    }\n",
       "</style>\n",
       "<table border=\"1\" class=\"dataframe\">\n",
       "  <thead>\n",
       "    <tr style=\"text-align: right;\">\n",
       "      <th></th>\n",
       "      <th>Unnamed: 0</th>\n",
       "      <th>BatterNumber</th>\n",
       "      <th>Outcome</th>\n",
       "      <th>Class</th>\n",
       "      <th>Result</th>\n",
       "      <th>Swing</th>\n",
       "      <th>Time</th>\n",
       "      <th>StartSpeed</th>\n",
       "      <th>EndSpeed</th>\n",
       "      <th>HDev</th>\n",
       "      <th>...</th>\n",
       "      <th>Nasty</th>\n",
       "      <th>Count</th>\n",
       "      <th>BallCount</th>\n",
       "      <th>StrikeCount</th>\n",
       "      <th>Inning</th>\n",
       "      <th>InningSide</th>\n",
       "      <th>Outs</th>\n",
       "      <th>BatterHand</th>\n",
       "      <th>ABEvent</th>\n",
       "      <th>Batter</th>\n",
       "    </tr>\n",
       "  </thead>\n",
       "  <tbody>\n",
       "    <tr>\n",
       "      <th>0</th>\n",
       "      <td>1</td>\n",
       "      <td>1</td>\n",
       "      <td>Called Strike</td>\n",
       "      <td>S</td>\n",
       "      <td>Pos</td>\n",
       "      <td>No</td>\n",
       "      <td>2013-04-01T20:15:04Z</td>\n",
       "      <td>92.7</td>\n",
       "      <td>84.1</td>\n",
       "      <td>0.98</td>\n",
       "      <td>...</td>\n",
       "      <td>56</td>\n",
       "      <td>0-0</td>\n",
       "      <td>0</td>\n",
       "      <td>0</td>\n",
       "      <td>1</td>\n",
       "      <td>top</td>\n",
       "      <td>1</td>\n",
       "      <td>R</td>\n",
       "      <td>Pop Out</td>\n",
       "      <td>Angel Pagan</td>\n",
       "    </tr>\n",
       "    <tr>\n",
       "      <th>1</th>\n",
       "      <td>2</td>\n",
       "      <td>1</td>\n",
       "      <td>In play, out(s)</td>\n",
       "      <td>X</td>\n",
       "      <td>Pos</td>\n",
       "      <td>Yes</td>\n",
       "      <td>2013-04-01T20:15:20Z</td>\n",
       "      <td>73.1</td>\n",
       "      <td>66.6</td>\n",
       "      <td>-3.52</td>\n",
       "      <td>...</td>\n",
       "      <td>35</td>\n",
       "      <td>0-1</td>\n",
       "      <td>0</td>\n",
       "      <td>1</td>\n",
       "      <td>1</td>\n",
       "      <td>top</td>\n",
       "      <td>1</td>\n",
       "      <td>R</td>\n",
       "      <td>Pop Out</td>\n",
       "      <td>Angel Pagan</td>\n",
       "    </tr>\n",
       "    <tr>\n",
       "      <th>2</th>\n",
       "      <td>3</td>\n",
       "      <td>2</td>\n",
       "      <td>Ball</td>\n",
       "      <td>B</td>\n",
       "      <td>Neg</td>\n",
       "      <td>No</td>\n",
       "      <td>2013-04-01T20:16:01Z</td>\n",
       "      <td>92.4</td>\n",
       "      <td>84.3</td>\n",
       "      <td>0.51</td>\n",
       "      <td>...</td>\n",
       "      <td>49</td>\n",
       "      <td>0-0</td>\n",
       "      <td>0</td>\n",
       "      <td>0</td>\n",
       "      <td>1</td>\n",
       "      <td>top</td>\n",
       "      <td>2</td>\n",
       "      <td>R</td>\n",
       "      <td>Pop Out</td>\n",
       "      <td>Marco Scutaro</td>\n",
       "    </tr>\n",
       "    <tr>\n",
       "      <th>3</th>\n",
       "      <td>4</td>\n",
       "      <td>2</td>\n",
       "      <td>Called Strike</td>\n",
       "      <td>S</td>\n",
       "      <td>Pos</td>\n",
       "      <td>No</td>\n",
       "      <td>2013-04-01T20:16:14Z</td>\n",
       "      <td>92.6</td>\n",
       "      <td>83.7</td>\n",
       "      <td>0.10</td>\n",
       "      <td>...</td>\n",
       "      <td>41</td>\n",
       "      <td>0-1</td>\n",
       "      <td>0</td>\n",
       "      <td>1</td>\n",
       "      <td>1</td>\n",
       "      <td>top</td>\n",
       "      <td>2</td>\n",
       "      <td>R</td>\n",
       "      <td>Pop Out</td>\n",
       "      <td>Marco Scutaro</td>\n",
       "    </tr>\n",
       "    <tr>\n",
       "      <th>4</th>\n",
       "      <td>5</td>\n",
       "      <td>2</td>\n",
       "      <td>Ball</td>\n",
       "      <td>B</td>\n",
       "      <td>Neg</td>\n",
       "      <td>No</td>\n",
       "      <td>2013-04-01T20:16:46Z</td>\n",
       "      <td>72.7</td>\n",
       "      <td>66.3</td>\n",
       "      <td>-5.21</td>\n",
       "      <td>...</td>\n",
       "      <td>27</td>\n",
       "      <td>0-2</td>\n",
       "      <td>0</td>\n",
       "      <td>2</td>\n",
       "      <td>1</td>\n",
       "      <td>top</td>\n",
       "      <td>2</td>\n",
       "      <td>R</td>\n",
       "      <td>Pop Out</td>\n",
       "      <td>Marco Scutaro</td>\n",
       "    </tr>\n",
       "    <tr>\n",
       "      <th>...</th>\n",
       "      <td>...</td>\n",
       "      <td>...</td>\n",
       "      <td>...</td>\n",
       "      <td>...</td>\n",
       "      <td>...</td>\n",
       "      <td>...</td>\n",
       "      <td>...</td>\n",
       "      <td>...</td>\n",
       "      <td>...</td>\n",
       "      <td>...</td>\n",
       "      <td>...</td>\n",
       "      <td>...</td>\n",
       "      <td>...</td>\n",
       "      <td>...</td>\n",
       "      <td>...</td>\n",
       "      <td>...</td>\n",
       "      <td>...</td>\n",
       "      <td>...</td>\n",
       "      <td>...</td>\n",
       "      <td>...</td>\n",
       "      <td>...</td>\n",
       "    </tr>\n",
       "    <tr>\n",
       "      <th>3397</th>\n",
       "      <td>3398</td>\n",
       "      <td>51</td>\n",
       "      <td>Ball</td>\n",
       "      <td>B</td>\n",
       "      <td>Neg</td>\n",
       "      <td>No</td>\n",
       "      <td>2013-09-28T04:00:26Z</td>\n",
       "      <td>93.1</td>\n",
       "      <td>84.5</td>\n",
       "      <td>4.10</td>\n",
       "      <td>...</td>\n",
       "      <td>47</td>\n",
       "      <td>2-Jan</td>\n",
       "      <td>1</td>\n",
       "      <td>2</td>\n",
       "      <td>6</td>\n",
       "      <td>top</td>\n",
       "      <td>3</td>\n",
       "      <td>R</td>\n",
       "      <td>Lineout</td>\n",
       "      <td>Troy Tulowitzki</td>\n",
       "    </tr>\n",
       "    <tr>\n",
       "      <th>3398</th>\n",
       "      <td>3399</td>\n",
       "      <td>51</td>\n",
       "      <td>Ball</td>\n",
       "      <td>B</td>\n",
       "      <td>Neg</td>\n",
       "      <td>No</td>\n",
       "      <td>2013-09-28T04:00:49Z</td>\n",
       "      <td>94.0</td>\n",
       "      <td>85.7</td>\n",
       "      <td>4.90</td>\n",
       "      <td>...</td>\n",
       "      <td>52</td>\n",
       "      <td>2-Feb</td>\n",
       "      <td>2</td>\n",
       "      <td>2</td>\n",
       "      <td>6</td>\n",
       "      <td>top</td>\n",
       "      <td>3</td>\n",
       "      <td>R</td>\n",
       "      <td>Lineout</td>\n",
       "      <td>Troy Tulowitzki</td>\n",
       "    </tr>\n",
       "    <tr>\n",
       "      <th>3399</th>\n",
       "      <td>3400</td>\n",
       "      <td>51</td>\n",
       "      <td>Called Strike</td>\n",
       "      <td>S</td>\n",
       "      <td>Pos</td>\n",
       "      <td>No</td>\n",
       "      <td>2013-09-28T04:01:15Z</td>\n",
       "      <td>82.7</td>\n",
       "      <td>75.5</td>\n",
       "      <td>-8.07</td>\n",
       "      <td>...</td>\n",
       "      <td>39</td>\n",
       "      <td>2-Feb</td>\n",
       "      <td>2</td>\n",
       "      <td>2</td>\n",
       "      <td>6</td>\n",
       "      <td>top</td>\n",
       "      <td>3</td>\n",
       "      <td>R</td>\n",
       "      <td>Lineout</td>\n",
       "      <td>Troy Tulowitzki</td>\n",
       "    </tr>\n",
       "    <tr>\n",
       "      <th>3400</th>\n",
       "      <td>3401</td>\n",
       "      <td>51</td>\n",
       "      <td>Ball In Dirt</td>\n",
       "      <td>B</td>\n",
       "      <td>Neg</td>\n",
       "      <td>No</td>\n",
       "      <td>2013-09-28T04:01:43Z</td>\n",
       "      <td>86.4</td>\n",
       "      <td>79.5</td>\n",
       "      <td>-2.81</td>\n",
       "      <td>...</td>\n",
       "      <td>25</td>\n",
       "      <td>2-Feb</td>\n",
       "      <td>2</td>\n",
       "      <td>2</td>\n",
       "      <td>6</td>\n",
       "      <td>top</td>\n",
       "      <td>3</td>\n",
       "      <td>R</td>\n",
       "      <td>Lineout</td>\n",
       "      <td>Troy Tulowitzki</td>\n",
       "    </tr>\n",
       "    <tr>\n",
       "      <th>3401</th>\n",
       "      <td>3402</td>\n",
       "      <td>51</td>\n",
       "      <td>In play, out(s)</td>\n",
       "      <td>X</td>\n",
       "      <td>Pos</td>\n",
       "      <td>Yes</td>\n",
       "      <td>2013-09-28T04:02:15Z</td>\n",
       "      <td>92.9</td>\n",
       "      <td>84.9</td>\n",
       "      <td>-0.01</td>\n",
       "      <td>...</td>\n",
       "      <td>27</td>\n",
       "      <td>2-Mar</td>\n",
       "      <td>3</td>\n",
       "      <td>2</td>\n",
       "      <td>6</td>\n",
       "      <td>top</td>\n",
       "      <td>3</td>\n",
       "      <td>R</td>\n",
       "      <td>Lineout</td>\n",
       "      <td>Troy Tulowitzki</td>\n",
       "    </tr>\n",
       "  </tbody>\n",
       "</table>\n",
       "<p>3402 rows × 25 columns</p>\n",
       "</div>"
      ],
      "text/plain": [
       "      Unnamed: 0  BatterNumber          Outcome Class Result Swing  \\\n",
       "0              1             1    Called Strike     S    Pos    No   \n",
       "1              2             1  In play, out(s)     X    Pos   Yes   \n",
       "2              3             2             Ball     B    Neg    No   \n",
       "3              4             2    Called Strike     S    Pos    No   \n",
       "4              5             2             Ball     B    Neg    No   \n",
       "...          ...           ...              ...   ...    ...   ...   \n",
       "3397        3398            51             Ball     B    Neg    No   \n",
       "3398        3399            51             Ball     B    Neg    No   \n",
       "3399        3400            51    Called Strike     S    Pos    No   \n",
       "3400        3401            51     Ball In Dirt     B    Neg    No   \n",
       "3401        3402            51  In play, out(s)     X    Pos   Yes   \n",
       "\n",
       "                      Time  StartSpeed  EndSpeed  HDev  ...  Nasty  Count  \\\n",
       "0     2013-04-01T20:15:04Z        92.7      84.1  0.98  ...     56    0-0   \n",
       "1     2013-04-01T20:15:20Z        73.1      66.6 -3.52  ...     35    0-1   \n",
       "2     2013-04-01T20:16:01Z        92.4      84.3  0.51  ...     49    0-0   \n",
       "3     2013-04-01T20:16:14Z        92.6      83.7  0.10  ...     41    0-1   \n",
       "4     2013-04-01T20:16:46Z        72.7      66.3 -5.21  ...     27    0-2   \n",
       "...                    ...         ...       ...   ...  ...    ...    ...   \n",
       "3397  2013-09-28T04:00:26Z        93.1      84.5  4.10  ...     47  2-Jan   \n",
       "3398  2013-09-28T04:00:49Z        94.0      85.7  4.90  ...     52  2-Feb   \n",
       "3399  2013-09-28T04:01:15Z        82.7      75.5 -8.07  ...     39  2-Feb   \n",
       "3400  2013-09-28T04:01:43Z        86.4      79.5 -2.81  ...     25  2-Feb   \n",
       "3401  2013-09-28T04:02:15Z        92.9      84.9 -0.01  ...     27  2-Mar   \n",
       "\n",
       "      BallCount StrikeCount  Inning  InningSide Outs  BatterHand  ABEvent  \\\n",
       "0             0           0       1         top    1           R  Pop Out   \n",
       "1             0           1       1         top    1           R  Pop Out   \n",
       "2             0           0       1         top    2           R  Pop Out   \n",
       "3             0           1       1         top    2           R  Pop Out   \n",
       "4             0           2       1         top    2           R  Pop Out   \n",
       "...         ...         ...     ...         ...  ...         ...      ...   \n",
       "3397          1           2       6         top    3           R  Lineout   \n",
       "3398          2           2       6         top    3           R  Lineout   \n",
       "3399          2           2       6         top    3           R  Lineout   \n",
       "3400          2           2       6         top    3           R  Lineout   \n",
       "3401          3           2       6         top    3           R  Lineout   \n",
       "\n",
       "               Batter  \n",
       "0         Angel Pagan  \n",
       "1         Angel Pagan  \n",
       "2       Marco Scutaro  \n",
       "3       Marco Scutaro  \n",
       "4       Marco Scutaro  \n",
       "...               ...  \n",
       "3397  Troy Tulowitzki  \n",
       "3398  Troy Tulowitzki  \n",
       "3399  Troy Tulowitzki  \n",
       "3400  Troy Tulowitzki  \n",
       "3401  Troy Tulowitzki  \n",
       "\n",
       "[3402 rows x 25 columns]"
      ]
     },
     "execution_count": 3,
     "metadata": {},
     "output_type": "execute_result"
    }
   ],
   "source": [
    "df"
   ]
  },
  {
   "cell_type": "code",
   "execution_count": 12,
   "id": "df12623b",
   "metadata": {},
   "outputs": [
    {
     "name": "stdout",
     "output_type": "stream",
     "text": [
      "List of Columns:\n",
      " Index(['Unnamed: 0', 'BatterNumber', 'Outcome', 'Class', 'Result', 'Swing',\n",
      "       'Time', 'StartSpeed', 'EndSpeed', 'HDev', 'VDev', 'HPos', 'VPos',\n",
      "       'PitchType', 'Zone', 'Nasty', 'Count', 'BallCount', 'StrikeCount',\n",
      "       'Inning', 'InningSide', 'Outs', 'BatterHand', 'ABEvent', 'Batter'],\n",
      "      dtype='object')\n"
     ]
    }
   ],
   "source": [
    "print(\"List of Columns:\\n\", df.columns)"
   ]
  },
  {
   "cell_type": "code",
   "execution_count": 15,
   "id": "a153be30",
   "metadata": {},
   "outputs": [
    {
     "name": "stdout",
     "output_type": "stream",
     "text": [
      "<class 'pandas.core.frame.DataFrame'>\n",
      "RangeIndex: 3402 entries, 0 to 3401\n",
      "Data columns (total 25 columns):\n",
      " #   Column        Non-Null Count  Dtype  \n",
      "---  ------        --------------  -----  \n",
      " 0   Unnamed: 0    3402 non-null   int64  \n",
      " 1   BatterNumber  3402 non-null   int64  \n",
      " 2   Outcome       3402 non-null   object \n",
      " 3   Class         3402 non-null   object \n",
      " 4   Result        3402 non-null   object \n",
      " 5   Swing         3402 non-null   object \n",
      " 6   Time          3402 non-null   object \n",
      " 7   StartSpeed    3402 non-null   float64\n",
      " 8   EndSpeed      3402 non-null   float64\n",
      " 9   HDev          3402 non-null   float64\n",
      " 10  VDev          3402 non-null   float64\n",
      " 11  HPos          3402 non-null   float64\n",
      " 12  VPos          3402 non-null   float64\n",
      " 13  PitchType     3402 non-null   object \n",
      " 14  Zone          3402 non-null   int64  \n",
      " 15  Nasty         3402 non-null   int64  \n",
      " 16  Count         3402 non-null   object \n",
      " 17  BallCount     3402 non-null   int64  \n",
      " 18  StrikeCount   3402 non-null   int64  \n",
      " 19  Inning        3402 non-null   int64  \n",
      " 20  InningSide    3402 non-null   object \n",
      " 21  Outs          3402 non-null   int64  \n",
      " 22  BatterHand    3402 non-null   object \n",
      " 23  ABEvent       3402 non-null   object \n",
      " 24  Batter        3402 non-null   object \n",
      "dtypes: float64(6), int64(8), object(11)\n",
      "memory usage: 664.6+ KB\n"
     ]
    }
   ],
   "source": [
    "df.info()"
   ]
  },
  {
   "cell_type": "markdown",
   "id": "23b3e4a0",
   "metadata": {},
   "source": [
    "### For continuous variables, provide the mean, median, quartiles, variance, and standard deviation"
   ]
  },
  {
   "cell_type": "code",
   "execution_count": 16,
   "id": "726a935c",
   "metadata": {},
   "outputs": [
    {
     "data": {
      "text/html": [
       "<div>\n",
       "<style scoped>\n",
       "    .dataframe tbody tr th:only-of-type {\n",
       "        vertical-align: middle;\n",
       "    }\n",
       "\n",
       "    .dataframe tbody tr th {\n",
       "        vertical-align: top;\n",
       "    }\n",
       "\n",
       "    .dataframe thead th {\n",
       "        text-align: right;\n",
       "    }\n",
       "</style>\n",
       "<table border=\"1\" class=\"dataframe\">\n",
       "  <thead>\n",
       "    <tr style=\"text-align: right;\">\n",
       "      <th></th>\n",
       "      <th>Unnamed: 0</th>\n",
       "      <th>BatterNumber</th>\n",
       "      <th>StartSpeed</th>\n",
       "      <th>EndSpeed</th>\n",
       "      <th>HDev</th>\n",
       "      <th>VDev</th>\n",
       "      <th>HPos</th>\n",
       "      <th>VPos</th>\n",
       "      <th>Zone</th>\n",
       "      <th>Nasty</th>\n",
       "      <th>BallCount</th>\n",
       "      <th>StrikeCount</th>\n",
       "      <th>Inning</th>\n",
       "      <th>Outs</th>\n",
       "    </tr>\n",
       "  </thead>\n",
       "  <tbody>\n",
       "    <tr>\n",
       "      <th>count</th>\n",
       "      <td>3402.000000</td>\n",
       "      <td>3402.000000</td>\n",
       "      <td>3402.000000</td>\n",
       "      <td>3402.000000</td>\n",
       "      <td>3402.000000</td>\n",
       "      <td>3402.000000</td>\n",
       "      <td>3402.000000</td>\n",
       "      <td>3402.000000</td>\n",
       "      <td>3402.000000</td>\n",
       "      <td>3402.000000</td>\n",
       "      <td>3402.000000</td>\n",
       "      <td>3402.000000</td>\n",
       "      <td>3402.000000</td>\n",
       "      <td>3402.000000</td>\n",
       "    </tr>\n",
       "    <tr>\n",
       "      <th>mean</th>\n",
       "      <td>1701.500000</td>\n",
       "      <td>29.277190</td>\n",
       "      <td>88.170723</td>\n",
       "      <td>81.110494</td>\n",
       "      <td>-0.457128</td>\n",
       "      <td>6.326934</td>\n",
       "      <td>-2.254896</td>\n",
       "      <td>28.750342</td>\n",
       "      <td>9.182246</td>\n",
       "      <td>43.997942</td>\n",
       "      <td>0.860376</td>\n",
       "      <td>1.042034</td>\n",
       "      <td>4.092887</td>\n",
       "      <td>1.735450</td>\n",
       "    </tr>\n",
       "    <tr>\n",
       "      <th>std</th>\n",
       "      <td>982.217135</td>\n",
       "      <td>17.592011</td>\n",
       "      <td>6.484404</td>\n",
       "      <td>5.779163</td>\n",
       "      <td>2.749855</td>\n",
       "      <td>8.049808</td>\n",
       "      <td>8.397873</td>\n",
       "      <td>12.354172</td>\n",
       "      <td>4.189393</td>\n",
       "      <td>15.995175</td>\n",
       "      <td>0.961579</td>\n",
       "      <td>0.754286</td>\n",
       "      <td>2.192222</td>\n",
       "      <td>0.957476</td>\n",
       "    </tr>\n",
       "    <tr>\n",
       "      <th>min</th>\n",
       "      <td>1.000000</td>\n",
       "      <td>1.000000</td>\n",
       "      <td>69.500000</td>\n",
       "      <td>63.600000</td>\n",
       "      <td>-8.760000</td>\n",
       "      <td>-17.170000</td>\n",
       "      <td>-31.428000</td>\n",
       "      <td>-33.864000</td>\n",
       "      <td>1.000000</td>\n",
       "      <td>8.000000</td>\n",
       "      <td>0.000000</td>\n",
       "      <td>0.000000</td>\n",
       "      <td>1.000000</td>\n",
       "      <td>0.000000</td>\n",
       "    </tr>\n",
       "    <tr>\n",
       "      <th>25%</th>\n",
       "      <td>851.250000</td>\n",
       "      <td>14.000000</td>\n",
       "      <td>85.000000</td>\n",
       "      <td>78.500000</td>\n",
       "      <td>-2.270000</td>\n",
       "      <td>1.140000</td>\n",
       "      <td>-8.064000</td>\n",
       "      <td>21.012000</td>\n",
       "      <td>5.000000</td>\n",
       "      <td>32.000000</td>\n",
       "      <td>0.000000</td>\n",
       "      <td>0.000000</td>\n",
       "      <td>2.000000</td>\n",
       "      <td>1.000000</td>\n",
       "    </tr>\n",
       "    <tr>\n",
       "      <th>50%</th>\n",
       "      <td>1701.500000</td>\n",
       "      <td>28.000000</td>\n",
       "      <td>91.700000</td>\n",
       "      <td>83.900000</td>\n",
       "      <td>-0.290000</td>\n",
       "      <td>10.320000</td>\n",
       "      <td>-2.760000</td>\n",
       "      <td>28.980000</td>\n",
       "      <td>11.000000</td>\n",
       "      <td>43.000000</td>\n",
       "      <td>1.000000</td>\n",
       "      <td>1.000000</td>\n",
       "      <td>4.000000</td>\n",
       "      <td>2.000000</td>\n",
       "    </tr>\n",
       "    <tr>\n",
       "      <th>75%</th>\n",
       "      <td>2551.750000</td>\n",
       "      <td>44.000000</td>\n",
       "      <td>92.800000</td>\n",
       "      <td>85.200000</td>\n",
       "      <td>1.180000</td>\n",
       "      <td>12.590000</td>\n",
       "      <td>3.114000</td>\n",
       "      <td>36.960000</td>\n",
       "      <td>13.000000</td>\n",
       "      <td>55.000000</td>\n",
       "      <td>1.000000</td>\n",
       "      <td>2.000000</td>\n",
       "      <td>6.000000</td>\n",
       "      <td>3.000000</td>\n",
       "    </tr>\n",
       "    <tr>\n",
       "      <th>max</th>\n",
       "      <td>3402.000000</td>\n",
       "      <td>74.000000</td>\n",
       "      <td>95.600000</td>\n",
       "      <td>88.100000</td>\n",
       "      <td>11.330000</td>\n",
       "      <td>17.850000</td>\n",
       "      <td>29.880000</td>\n",
       "      <td>67.944000</td>\n",
       "      <td>14.000000</td>\n",
       "      <td>94.000000</td>\n",
       "      <td>3.000000</td>\n",
       "      <td>2.000000</td>\n",
       "      <td>9.000000</td>\n",
       "      <td>3.000000</td>\n",
       "    </tr>\n",
       "  </tbody>\n",
       "</table>\n",
       "</div>"
      ],
      "text/plain": [
       "        Unnamed: 0  BatterNumber   StartSpeed     EndSpeed         HDev  \\\n",
       "count  3402.000000   3402.000000  3402.000000  3402.000000  3402.000000   \n",
       "mean   1701.500000     29.277190    88.170723    81.110494    -0.457128   \n",
       "std     982.217135     17.592011     6.484404     5.779163     2.749855   \n",
       "min       1.000000      1.000000    69.500000    63.600000    -8.760000   \n",
       "25%     851.250000     14.000000    85.000000    78.500000    -2.270000   \n",
       "50%    1701.500000     28.000000    91.700000    83.900000    -0.290000   \n",
       "75%    2551.750000     44.000000    92.800000    85.200000     1.180000   \n",
       "max    3402.000000     74.000000    95.600000    88.100000    11.330000   \n",
       "\n",
       "              VDev         HPos         VPos         Zone        Nasty  \\\n",
       "count  3402.000000  3402.000000  3402.000000  3402.000000  3402.000000   \n",
       "mean      6.326934    -2.254896    28.750342     9.182246    43.997942   \n",
       "std       8.049808     8.397873    12.354172     4.189393    15.995175   \n",
       "min     -17.170000   -31.428000   -33.864000     1.000000     8.000000   \n",
       "25%       1.140000    -8.064000    21.012000     5.000000    32.000000   \n",
       "50%      10.320000    -2.760000    28.980000    11.000000    43.000000   \n",
       "75%      12.590000     3.114000    36.960000    13.000000    55.000000   \n",
       "max      17.850000    29.880000    67.944000    14.000000    94.000000   \n",
       "\n",
       "         BallCount  StrikeCount       Inning         Outs  \n",
       "count  3402.000000  3402.000000  3402.000000  3402.000000  \n",
       "mean      0.860376     1.042034     4.092887     1.735450  \n",
       "std       0.961579     0.754286     2.192222     0.957476  \n",
       "min       0.000000     0.000000     1.000000     0.000000  \n",
       "25%       0.000000     0.000000     2.000000     1.000000  \n",
       "50%       1.000000     1.000000     4.000000     2.000000  \n",
       "75%       1.000000     2.000000     6.000000     3.000000  \n",
       "max       3.000000     2.000000     9.000000     3.000000  "
      ]
     },
     "execution_count": 16,
     "metadata": {},
     "output_type": "execute_result"
    }
   ],
   "source": [
    "df.describe()"
   ]
  },
  {
   "cell_type": "markdown",
   "id": "3de033d9",
   "metadata": {},
   "source": [
    "- #### Variable 1 \"StartSpeed\""
   ]
  },
  {
   "cell_type": "code",
   "execution_count": 6,
   "id": "9ffa3ca1",
   "metadata": {},
   "outputs": [
    {
     "data": {
      "text/plain": [
       "88.17072310405652"
      ]
     },
     "execution_count": 6,
     "metadata": {},
     "output_type": "execute_result"
    }
   ],
   "source": [
    "df.StartSpeed.mean()"
   ]
  },
  {
   "cell_type": "code",
   "execution_count": 7,
   "id": "839f5ead",
   "metadata": {},
   "outputs": [
    {
     "data": {
      "text/plain": [
       "91.7"
      ]
     },
     "execution_count": 7,
     "metadata": {},
     "output_type": "execute_result"
    }
   ],
   "source": [
    "df.StartSpeed.median()"
   ]
  },
  {
   "cell_type": "code",
   "execution_count": 8,
   "id": "a9be3105",
   "metadata": {},
   "outputs": [
    {
     "data": {
      "text/plain": [
       "91.7"
      ]
     },
     "execution_count": 8,
     "metadata": {},
     "output_type": "execute_result"
    }
   ],
   "source": [
    "df.StartSpeed.quantile(.5)"
   ]
  },
  {
   "cell_type": "code",
   "execution_count": 9,
   "id": "d3535657",
   "metadata": {},
   "outputs": [
    {
     "data": {
      "text/plain": [
       "85.0"
      ]
     },
     "execution_count": 9,
     "metadata": {},
     "output_type": "execute_result"
    }
   ],
   "source": [
    "df.StartSpeed.quantile(.25)"
   ]
  },
  {
   "cell_type": "code",
   "execution_count": 10,
   "id": "2048e333",
   "metadata": {},
   "outputs": [
    {
     "data": {
      "text/plain": [
       "92.8"
      ]
     },
     "execution_count": 10,
     "metadata": {},
     "output_type": "execute_result"
    }
   ],
   "source": [
    "df.StartSpeed.quantile(.75)"
   ]
  },
  {
   "cell_type": "code",
   "execution_count": 11,
   "id": "7c4c6c4a",
   "metadata": {},
   "outputs": [
    {
     "data": {
      "text/plain": [
       "0.00    69.5\n",
       "0.25    85.0\n",
       "0.50    91.7\n",
       "0.75    92.8\n",
       "1.00    95.6\n",
       "Name: StartSpeed, dtype: float64"
      ]
     },
     "execution_count": 11,
     "metadata": {},
     "output_type": "execute_result"
    }
   ],
   "source": [
    "df.StartSpeed.quantile([0,.25,.5,.75,1])"
   ]
  },
  {
   "cell_type": "code",
   "execution_count": 12,
   "id": "ce60abb7",
   "metadata": {},
   "outputs": [
    {
     "data": {
      "text/plain": [
       "6.484404288530577"
      ]
     },
     "execution_count": 12,
     "metadata": {},
     "output_type": "execute_result"
    }
   ],
   "source": [
    "df.StartSpeed.std()"
   ]
  },
  {
   "cell_type": "code",
   "execution_count": 13,
   "id": "34a6888b",
   "metadata": {},
   "outputs": [
    {
     "data": {
      "text/plain": [
       "42.04749897711373"
      ]
     },
     "execution_count": 13,
     "metadata": {},
     "output_type": "execute_result"
    }
   ],
   "source": [
    "df.StartSpeed.var()"
   ]
  },
  {
   "cell_type": "markdown",
   "id": "65fcfce6",
   "metadata": {},
   "source": [
    "- #### Variable 2 \"EndSpeed\""
   ]
  },
  {
   "cell_type": "code",
   "execution_count": 14,
   "id": "a800948b",
   "metadata": {},
   "outputs": [
    {
     "data": {
      "text/plain": [
       "81.11049382716041"
      ]
     },
     "execution_count": 14,
     "metadata": {},
     "output_type": "execute_result"
    }
   ],
   "source": [
    "df.EndSpeed.mean()\n"
   ]
  },
  {
   "cell_type": "code",
   "execution_count": 15,
   "id": "4fbdd772",
   "metadata": {},
   "outputs": [
    {
     "data": {
      "text/plain": [
       "83.9"
      ]
     },
     "execution_count": 15,
     "metadata": {},
     "output_type": "execute_result"
    }
   ],
   "source": [
    "df.EndSpeed.median()"
   ]
  },
  {
   "cell_type": "code",
   "execution_count": 16,
   "id": "0bc141e6",
   "metadata": {},
   "outputs": [
    {
     "data": {
      "text/plain": [
       "0.00    63.6\n",
       "0.25    78.5\n",
       "0.50    83.9\n",
       "0.75    85.2\n",
       "1.00    88.1\n",
       "Name: EndSpeed, dtype: float64"
      ]
     },
     "execution_count": 16,
     "metadata": {},
     "output_type": "execute_result"
    }
   ],
   "source": [
    "df.EndSpeed.quantile([0,.25,.5,.75,1])"
   ]
  },
  {
   "cell_type": "code",
   "execution_count": 17,
   "id": "ec2bbb6d",
   "metadata": {},
   "outputs": [
    {
     "data": {
      "text/plain": [
       "5.779163297926592"
      ]
     },
     "execution_count": 17,
     "metadata": {},
     "output_type": "execute_result"
    }
   ],
   "source": [
    "df.EndSpeed.std()"
   ]
  },
  {
   "cell_type": "code",
   "execution_count": 18,
   "id": "5fa33a00",
   "metadata": {},
   "outputs": [
    {
     "data": {
      "text/plain": [
       "33.39872842410177"
      ]
     },
     "execution_count": 18,
     "metadata": {},
     "output_type": "execute_result"
    }
   ],
   "source": [
    "df.EndSpeed.var()"
   ]
  },
  {
   "cell_type": "markdown",
   "id": "2a23d42b",
   "metadata": {},
   "source": [
    "- #### Variable 3 \"HDev\""
   ]
  },
  {
   "cell_type": "code",
   "execution_count": 19,
   "id": "c8f7576b",
   "metadata": {},
   "outputs": [
    {
     "data": {
      "text/plain": [
       "-0.4571281599059383"
      ]
     },
     "execution_count": 19,
     "metadata": {},
     "output_type": "execute_result"
    }
   ],
   "source": [
    "df.HDev.mean()"
   ]
  },
  {
   "cell_type": "code",
   "execution_count": 20,
   "id": "c9dc9a80",
   "metadata": {},
   "outputs": [
    {
     "data": {
      "text/plain": [
       "-0.29"
      ]
     },
     "execution_count": 20,
     "metadata": {},
     "output_type": "execute_result"
    }
   ],
   "source": [
    "df.HDev.median()"
   ]
  },
  {
   "cell_type": "code",
   "execution_count": 21,
   "id": "d1de585a",
   "metadata": {},
   "outputs": [
    {
     "data": {
      "text/plain": [
       "0.00    -8.76\n",
       "0.25    -2.27\n",
       "0.50    -0.29\n",
       "0.75     1.18\n",
       "1.00    11.33\n",
       "Name: HDev, dtype: float64"
      ]
     },
     "execution_count": 21,
     "metadata": {},
     "output_type": "execute_result"
    }
   ],
   "source": [
    "df.HDev.quantile([0,.25,.5,.75,1])"
   ]
  },
  {
   "cell_type": "code",
   "execution_count": 22,
   "id": "8c82f2e4",
   "metadata": {},
   "outputs": [
    {
     "data": {
      "text/plain": [
       "2.749854559898511"
      ]
     },
     "execution_count": 22,
     "metadata": {},
     "output_type": "execute_result"
    }
   ],
   "source": [
    "df.HDev.std()"
   ]
  },
  {
   "cell_type": "code",
   "execution_count": 23,
   "id": "670b52f9",
   "metadata": {},
   "outputs": [
    {
     "data": {
      "text/plain": [
       "7.561700100594634"
      ]
     },
     "execution_count": 23,
     "metadata": {},
     "output_type": "execute_result"
    }
   ],
   "source": [
    "df.HDev.var()"
   ]
  },
  {
   "cell_type": "markdown",
   "id": "6ea12644",
   "metadata": {},
   "source": [
    "- #### Variable 4 \"VDev\""
   ]
  },
  {
   "cell_type": "code",
   "execution_count": 24,
   "id": "72d8b0a8",
   "metadata": {},
   "outputs": [
    {
     "data": {
      "text/plain": [
       "6.326934156378598"
      ]
     },
     "execution_count": 24,
     "metadata": {},
     "output_type": "execute_result"
    }
   ],
   "source": [
    "df.VDev.mean()"
   ]
  },
  {
   "cell_type": "code",
   "execution_count": 25,
   "id": "211ba9ec",
   "metadata": {},
   "outputs": [
    {
     "data": {
      "text/plain": [
       "10.32"
      ]
     },
     "execution_count": 25,
     "metadata": {},
     "output_type": "execute_result"
    }
   ],
   "source": [
    "df.VDev.median()"
   ]
  },
  {
   "cell_type": "code",
   "execution_count": 26,
   "id": "9a693904",
   "metadata": {},
   "outputs": [
    {
     "data": {
      "text/plain": [
       "0.00   -17.17\n",
       "0.25     1.14\n",
       "0.50    10.32\n",
       "0.75    12.59\n",
       "1.00    17.85\n",
       "Name: VDev, dtype: float64"
      ]
     },
     "execution_count": 26,
     "metadata": {},
     "output_type": "execute_result"
    }
   ],
   "source": [
    "df.VDev.quantile([0,.25,.5,.75,1])"
   ]
  },
  {
   "cell_type": "code",
   "execution_count": 27,
   "id": "e300a315",
   "metadata": {},
   "outputs": [
    {
     "data": {
      "text/plain": [
       "8.049808472453151"
      ]
     },
     "execution_count": 27,
     "metadata": {},
     "output_type": "execute_result"
    }
   ],
   "source": [
    "df.VDev.std()"
   ]
  },
  {
   "cell_type": "code",
   "execution_count": 28,
   "id": "4f3d7100",
   "metadata": {},
   "outputs": [
    {
     "data": {
      "text/plain": [
       "64.79941644317853"
      ]
     },
     "execution_count": 28,
     "metadata": {},
     "output_type": "execute_result"
    }
   ],
   "source": [
    "df.VDev.var()"
   ]
  },
  {
   "cell_type": "markdown",
   "id": "ccffbd9a",
   "metadata": {},
   "source": [
    "- #### Variable 5 \"HPos\""
   ]
  },
  {
   "cell_type": "code",
   "execution_count": 29,
   "id": "a2c4c91b",
   "metadata": {},
   "outputs": [
    {
     "data": {
      "text/plain": [
       "-2.2548959435626155"
      ]
     },
     "execution_count": 29,
     "metadata": {},
     "output_type": "execute_result"
    }
   ],
   "source": [
    "df.HPos.mean()"
   ]
  },
  {
   "cell_type": "code",
   "execution_count": 30,
   "id": "8eabb7d3",
   "metadata": {},
   "outputs": [
    {
     "data": {
      "text/plain": [
       "-2.76"
      ]
     },
     "execution_count": 30,
     "metadata": {},
     "output_type": "execute_result"
    }
   ],
   "source": [
    "df.HPos.median()"
   ]
  },
  {
   "cell_type": "code",
   "execution_count": 31,
   "id": "0ca38123",
   "metadata": {},
   "outputs": [
    {
     "data": {
      "text/plain": [
       "0.00   -31.428\n",
       "0.25    -8.064\n",
       "0.50    -2.760\n",
       "0.75     3.114\n",
       "1.00    29.880\n",
       "Name: HPos, dtype: float64"
      ]
     },
     "execution_count": 31,
     "metadata": {},
     "output_type": "execute_result"
    }
   ],
   "source": [
    "df.HPos.quantile([0,.25,.5,.75,1])"
   ]
  },
  {
   "cell_type": "code",
   "execution_count": 32,
   "id": "4b5a13b3",
   "metadata": {},
   "outputs": [
    {
     "data": {
      "text/plain": [
       "8.397873079412046"
      ]
     },
     "execution_count": 32,
     "metadata": {},
     "output_type": "execute_result"
    }
   ],
   "source": [
    "df.HPos.std()"
   ]
  },
  {
   "cell_type": "code",
   "execution_count": 33,
   "id": "c827882a",
   "metadata": {},
   "outputs": [
    {
     "data": {
      "text/plain": [
       "70.52427225791355"
      ]
     },
     "execution_count": 33,
     "metadata": {},
     "output_type": "execute_result"
    }
   ],
   "source": [
    "df.HPos.var()"
   ]
  },
  {
   "cell_type": "markdown",
   "id": "0b8c0206",
   "metadata": {},
   "source": [
    "## Part Two"
   ]
  },
  {
   "cell_type": "markdown",
   "id": "af84f872",
   "metadata": {},
   "source": [
    "### Correlations "
   ]
  },
  {
   "cell_type": "code",
   "execution_count": 24,
   "id": "b097d11e",
   "metadata": {},
   "outputs": [
    {
     "data": {
      "text/html": [
       "<div>\n",
       "<style scoped>\n",
       "    .dataframe tbody tr th:only-of-type {\n",
       "        vertical-align: middle;\n",
       "    }\n",
       "\n",
       "    .dataframe tbody tr th {\n",
       "        vertical-align: top;\n",
       "    }\n",
       "\n",
       "    .dataframe thead th {\n",
       "        text-align: right;\n",
       "    }\n",
       "</style>\n",
       "<table border=\"1\" class=\"dataframe\">\n",
       "  <thead>\n",
       "    <tr style=\"text-align: right;\">\n",
       "      <th></th>\n",
       "      <th>Unnamed: 0</th>\n",
       "      <th>BatterNumber</th>\n",
       "      <th>StartSpeed</th>\n",
       "      <th>EndSpeed</th>\n",
       "      <th>HDev</th>\n",
       "      <th>VDev</th>\n",
       "      <th>HPos</th>\n",
       "      <th>VPos</th>\n",
       "      <th>Zone</th>\n",
       "      <th>Nasty</th>\n",
       "      <th>BallCount</th>\n",
       "      <th>StrikeCount</th>\n",
       "      <th>Inning</th>\n",
       "      <th>Outs</th>\n",
       "    </tr>\n",
       "  </thead>\n",
       "  <tbody>\n",
       "    <tr>\n",
       "      <th>Unnamed: 0</th>\n",
       "      <td>1.000000</td>\n",
       "      <td>0.026747</td>\n",
       "      <td>-0.007731</td>\n",
       "      <td>0.012000</td>\n",
       "      <td>0.055752</td>\n",
       "      <td>-0.058277</td>\n",
       "      <td>0.002985</td>\n",
       "      <td>-0.068199</td>\n",
       "      <td>0.011496</td>\n",
       "      <td>-0.008317</td>\n",
       "      <td>-0.008447</td>\n",
       "      <td>-0.009127</td>\n",
       "      <td>-0.019001</td>\n",
       "      <td>-0.064396</td>\n",
       "    </tr>\n",
       "    <tr>\n",
       "      <th>BatterNumber</th>\n",
       "      <td>0.026747</td>\n",
       "      <td>1.000000</td>\n",
       "      <td>-0.115421</td>\n",
       "      <td>-0.108019</td>\n",
       "      <td>-0.030773</td>\n",
       "      <td>-0.087906</td>\n",
       "      <td>-0.003839</td>\n",
       "      <td>-0.033244</td>\n",
       "      <td>0.021421</td>\n",
       "      <td>0.004495</td>\n",
       "      <td>-0.021542</td>\n",
       "      <td>-0.009808</td>\n",
       "      <td>0.972483</td>\n",
       "      <td>0.049776</td>\n",
       "    </tr>\n",
       "    <tr>\n",
       "      <th>StartSpeed</th>\n",
       "      <td>-0.007731</td>\n",
       "      <td>-0.115421</td>\n",
       "      <td>1.000000</td>\n",
       "      <td>0.991489</td>\n",
       "      <td>0.508977</td>\n",
       "      <td>0.828273</td>\n",
       "      <td>-0.114238</td>\n",
       "      <td>0.198838</td>\n",
       "      <td>-0.133523</td>\n",
       "      <td>0.328665</td>\n",
       "      <td>0.018791</td>\n",
       "      <td>0.000841</td>\n",
       "      <td>-0.121080</td>\n",
       "      <td>-0.026319</td>\n",
       "    </tr>\n",
       "    <tr>\n",
       "      <th>EndSpeed</th>\n",
       "      <td>0.012000</td>\n",
       "      <td>-0.108019</td>\n",
       "      <td>0.991489</td>\n",
       "      <td>1.000000</td>\n",
       "      <td>0.509032</td>\n",
       "      <td>0.785987</td>\n",
       "      <td>-0.134502</td>\n",
       "      <td>0.174598</td>\n",
       "      <td>-0.125359</td>\n",
       "      <td>0.322623</td>\n",
       "      <td>0.017978</td>\n",
       "      <td>-0.001437</td>\n",
       "      <td>-0.121668</td>\n",
       "      <td>-0.034245</td>\n",
       "    </tr>\n",
       "    <tr>\n",
       "      <th>HDev</th>\n",
       "      <td>0.055752</td>\n",
       "      <td>-0.030773</td>\n",
       "      <td>0.508977</td>\n",
       "      <td>0.509032</td>\n",
       "      <td>1.000000</td>\n",
       "      <td>0.460097</td>\n",
       "      <td>0.064764</td>\n",
       "      <td>0.071041</td>\n",
       "      <td>-0.057127</td>\n",
       "      <td>0.191890</td>\n",
       "      <td>0.016565</td>\n",
       "      <td>0.026867</td>\n",
       "      <td>-0.086671</td>\n",
       "      <td>-0.058972</td>\n",
       "    </tr>\n",
       "    <tr>\n",
       "      <th>VDev</th>\n",
       "      <td>-0.058277</td>\n",
       "      <td>-0.087906</td>\n",
       "      <td>0.828273</td>\n",
       "      <td>0.785987</td>\n",
       "      <td>0.460097</td>\n",
       "      <td>1.000000</td>\n",
       "      <td>-0.010322</td>\n",
       "      <td>0.161943</td>\n",
       "      <td>-0.118599</td>\n",
       "      <td>0.294350</td>\n",
       "      <td>-0.004190</td>\n",
       "      <td>0.016115</td>\n",
       "      <td>-0.059100</td>\n",
       "      <td>-0.050016</td>\n",
       "    </tr>\n",
       "    <tr>\n",
       "      <th>HPos</th>\n",
       "      <td>0.002985</td>\n",
       "      <td>-0.003839</td>\n",
       "      <td>-0.114238</td>\n",
       "      <td>-0.134502</td>\n",
       "      <td>0.064764</td>\n",
       "      <td>-0.010322</td>\n",
       "      <td>1.000000</td>\n",
       "      <td>0.117074</td>\n",
       "      <td>-0.031895</td>\n",
       "      <td>-0.134961</td>\n",
       "      <td>-0.012525</td>\n",
       "      <td>-0.004750</td>\n",
       "      <td>0.002481</td>\n",
       "      <td>0.026444</td>\n",
       "    </tr>\n",
       "    <tr>\n",
       "      <th>VPos</th>\n",
       "      <td>-0.068199</td>\n",
       "      <td>-0.033244</td>\n",
       "      <td>0.198838</td>\n",
       "      <td>0.174598</td>\n",
       "      <td>0.071041</td>\n",
       "      <td>0.161943</td>\n",
       "      <td>0.117074</td>\n",
       "      <td>1.000000</td>\n",
       "      <td>-0.313910</td>\n",
       "      <td>0.132946</td>\n",
       "      <td>0.010842</td>\n",
       "      <td>-0.014436</td>\n",
       "      <td>-0.037315</td>\n",
       "      <td>-0.042531</td>\n",
       "    </tr>\n",
       "    <tr>\n",
       "      <th>Zone</th>\n",
       "      <td>0.011496</td>\n",
       "      <td>0.021421</td>\n",
       "      <td>-0.133523</td>\n",
       "      <td>-0.125359</td>\n",
       "      <td>-0.057127</td>\n",
       "      <td>-0.118599</td>\n",
       "      <td>-0.031895</td>\n",
       "      <td>-0.313910</td>\n",
       "      <td>1.000000</td>\n",
       "      <td>0.109957</td>\n",
       "      <td>-0.012440</td>\n",
       "      <td>0.006229</td>\n",
       "      <td>0.022424</td>\n",
       "      <td>-0.012533</td>\n",
       "    </tr>\n",
       "    <tr>\n",
       "      <th>Nasty</th>\n",
       "      <td>-0.008317</td>\n",
       "      <td>0.004495</td>\n",
       "      <td>0.328665</td>\n",
       "      <td>0.322623</td>\n",
       "      <td>0.191890</td>\n",
       "      <td>0.294350</td>\n",
       "      <td>-0.134961</td>\n",
       "      <td>0.132946</td>\n",
       "      <td>0.109957</td>\n",
       "      <td>1.000000</td>\n",
       "      <td>-0.004033</td>\n",
       "      <td>0.025548</td>\n",
       "      <td>0.003670</td>\n",
       "      <td>-0.018140</td>\n",
       "    </tr>\n",
       "    <tr>\n",
       "      <th>BallCount</th>\n",
       "      <td>-0.008447</td>\n",
       "      <td>-0.021542</td>\n",
       "      <td>0.018791</td>\n",
       "      <td>0.017978</td>\n",
       "      <td>0.016565</td>\n",
       "      <td>-0.004190</td>\n",
       "      <td>-0.012525</td>\n",
       "      <td>0.010842</td>\n",
       "      <td>-0.012440</td>\n",
       "      <td>-0.004033</td>\n",
       "      <td>1.000000</td>\n",
       "      <td>0.529425</td>\n",
       "      <td>-0.026904</td>\n",
       "      <td>0.007773</td>\n",
       "    </tr>\n",
       "    <tr>\n",
       "      <th>StrikeCount</th>\n",
       "      <td>-0.009127</td>\n",
       "      <td>-0.009808</td>\n",
       "      <td>0.000841</td>\n",
       "      <td>-0.001437</td>\n",
       "      <td>0.026867</td>\n",
       "      <td>0.016115</td>\n",
       "      <td>-0.004750</td>\n",
       "      <td>-0.014436</td>\n",
       "      <td>0.006229</td>\n",
       "      <td>0.025548</td>\n",
       "      <td>0.529425</td>\n",
       "      <td>1.000000</td>\n",
       "      <td>-0.008585</td>\n",
       "      <td>-0.006583</td>\n",
       "    </tr>\n",
       "    <tr>\n",
       "      <th>Inning</th>\n",
       "      <td>-0.019001</td>\n",
       "      <td>0.972483</td>\n",
       "      <td>-0.121080</td>\n",
       "      <td>-0.121668</td>\n",
       "      <td>-0.086671</td>\n",
       "      <td>-0.059100</td>\n",
       "      <td>0.002481</td>\n",
       "      <td>-0.037315</td>\n",
       "      <td>0.022424</td>\n",
       "      <td>0.003670</td>\n",
       "      <td>-0.026904</td>\n",
       "      <td>-0.008585</td>\n",
       "      <td>1.000000</td>\n",
       "      <td>0.009889</td>\n",
       "    </tr>\n",
       "    <tr>\n",
       "      <th>Outs</th>\n",
       "      <td>-0.064396</td>\n",
       "      <td>0.049776</td>\n",
       "      <td>-0.026319</td>\n",
       "      <td>-0.034245</td>\n",
       "      <td>-0.058972</td>\n",
       "      <td>-0.050016</td>\n",
       "      <td>0.026444</td>\n",
       "      <td>-0.042531</td>\n",
       "      <td>-0.012533</td>\n",
       "      <td>-0.018140</td>\n",
       "      <td>0.007773</td>\n",
       "      <td>-0.006583</td>\n",
       "      <td>0.009889</td>\n",
       "      <td>1.000000</td>\n",
       "    </tr>\n",
       "  </tbody>\n",
       "</table>\n",
       "</div>"
      ],
      "text/plain": [
       "              Unnamed: 0  BatterNumber  StartSpeed  EndSpeed      HDev  \\\n",
       "Unnamed: 0      1.000000      0.026747   -0.007731  0.012000  0.055752   \n",
       "BatterNumber    0.026747      1.000000   -0.115421 -0.108019 -0.030773   \n",
       "StartSpeed     -0.007731     -0.115421    1.000000  0.991489  0.508977   \n",
       "EndSpeed        0.012000     -0.108019    0.991489  1.000000  0.509032   \n",
       "HDev            0.055752     -0.030773    0.508977  0.509032  1.000000   \n",
       "VDev           -0.058277     -0.087906    0.828273  0.785987  0.460097   \n",
       "HPos            0.002985     -0.003839   -0.114238 -0.134502  0.064764   \n",
       "VPos           -0.068199     -0.033244    0.198838  0.174598  0.071041   \n",
       "Zone            0.011496      0.021421   -0.133523 -0.125359 -0.057127   \n",
       "Nasty          -0.008317      0.004495    0.328665  0.322623  0.191890   \n",
       "BallCount      -0.008447     -0.021542    0.018791  0.017978  0.016565   \n",
       "StrikeCount    -0.009127     -0.009808    0.000841 -0.001437  0.026867   \n",
       "Inning         -0.019001      0.972483   -0.121080 -0.121668 -0.086671   \n",
       "Outs           -0.064396      0.049776   -0.026319 -0.034245 -0.058972   \n",
       "\n",
       "                  VDev      HPos      VPos      Zone     Nasty  BallCount  \\\n",
       "Unnamed: 0   -0.058277  0.002985 -0.068199  0.011496 -0.008317  -0.008447   \n",
       "BatterNumber -0.087906 -0.003839 -0.033244  0.021421  0.004495  -0.021542   \n",
       "StartSpeed    0.828273 -0.114238  0.198838 -0.133523  0.328665   0.018791   \n",
       "EndSpeed      0.785987 -0.134502  0.174598 -0.125359  0.322623   0.017978   \n",
       "HDev          0.460097  0.064764  0.071041 -0.057127  0.191890   0.016565   \n",
       "VDev          1.000000 -0.010322  0.161943 -0.118599  0.294350  -0.004190   \n",
       "HPos         -0.010322  1.000000  0.117074 -0.031895 -0.134961  -0.012525   \n",
       "VPos          0.161943  0.117074  1.000000 -0.313910  0.132946   0.010842   \n",
       "Zone         -0.118599 -0.031895 -0.313910  1.000000  0.109957  -0.012440   \n",
       "Nasty         0.294350 -0.134961  0.132946  0.109957  1.000000  -0.004033   \n",
       "BallCount    -0.004190 -0.012525  0.010842 -0.012440 -0.004033   1.000000   \n",
       "StrikeCount   0.016115 -0.004750 -0.014436  0.006229  0.025548   0.529425   \n",
       "Inning       -0.059100  0.002481 -0.037315  0.022424  0.003670  -0.026904   \n",
       "Outs         -0.050016  0.026444 -0.042531 -0.012533 -0.018140   0.007773   \n",
       "\n",
       "              StrikeCount    Inning      Outs  \n",
       "Unnamed: 0      -0.009127 -0.019001 -0.064396  \n",
       "BatterNumber    -0.009808  0.972483  0.049776  \n",
       "StartSpeed       0.000841 -0.121080 -0.026319  \n",
       "EndSpeed        -0.001437 -0.121668 -0.034245  \n",
       "HDev             0.026867 -0.086671 -0.058972  \n",
       "VDev             0.016115 -0.059100 -0.050016  \n",
       "HPos            -0.004750  0.002481  0.026444  \n",
       "VPos            -0.014436 -0.037315 -0.042531  \n",
       "Zone             0.006229  0.022424 -0.012533  \n",
       "Nasty            0.025548  0.003670 -0.018140  \n",
       "BallCount        0.529425 -0.026904  0.007773  \n",
       "StrikeCount      1.000000 -0.008585 -0.006583  \n",
       "Inning          -0.008585  1.000000  0.009889  \n",
       "Outs            -0.006583  0.009889  1.000000  "
      ]
     },
     "execution_count": 24,
     "metadata": {},
     "output_type": "execute_result"
    }
   ],
   "source": [
    "df.corr()"
   ]
  },
  {
   "cell_type": "code",
   "execution_count": 19,
   "id": "ddf43eaf",
   "metadata": {},
   "outputs": [
    {
     "name": "stdout",
     "output_type": "stream",
     "text": [
      "Requirement already satisfied: matplotlib in /Users/mayahany/opt/anaconda3/lib/python3.9/site-packages (3.4.3)\r\n",
      "Requirement already satisfied: numpy>=1.16 in /Users/mayahany/opt/anaconda3/lib/python3.9/site-packages (from matplotlib) (1.20.3)\r\n",
      "Requirement already satisfied: pillow>=6.2.0 in /Users/mayahany/opt/anaconda3/lib/python3.9/site-packages (from matplotlib) (8.4.0)\r\n",
      "Requirement already satisfied: pyparsing>=2.2.1 in /Users/mayahany/opt/anaconda3/lib/python3.9/site-packages (from matplotlib) (3.0.4)\r\n",
      "Requirement already satisfied: cycler>=0.10 in /Users/mayahany/opt/anaconda3/lib/python3.9/site-packages (from matplotlib) (0.10.0)\r\n",
      "Requirement already satisfied: kiwisolver>=1.0.1 in /Users/mayahany/opt/anaconda3/lib/python3.9/site-packages (from matplotlib) (1.3.1)\r\n",
      "Requirement already satisfied: python-dateutil>=2.7 in /Users/mayahany/opt/anaconda3/lib/python3.9/site-packages (from matplotlib) (2.8.2)\r\n",
      "Requirement already satisfied: six in /Users/mayahany/opt/anaconda3/lib/python3.9/site-packages (from cycler>=0.10->matplotlib) (1.16.0)\r\n"
     ]
    }
   ],
   "source": [
    "!pip install matplotlib"
   ]
  },
  {
   "cell_type": "code",
   "execution_count": 20,
   "id": "9a35bf45",
   "metadata": {},
   "outputs": [],
   "source": [
    "import matplotlib.pyplot as plt"
   ]
  },
  {
   "cell_type": "code",
   "execution_count": 22,
   "id": "24717123",
   "metadata": {},
   "outputs": [
    {
     "data": {
      "image/png": "[encoded data removed]",
      "text/plain": [
       "<Figure size 432x288 with 1 Axes>"
      ]
     },
     "metadata": {
      "needs_background": "light"
     },
     "output_type": "display_data"
    }
   ],
   "source": [
    "plt.scatter(df['StartSpeed'],df['EndSpeed'])\n",
    "plt.ylabel(\"Speed in mph\")\n",
    "plt.xlabel(\"Speed in mph\")\n",
    "plt.show()"
   ]
  },
  {
   "cell_type": "code",
   "execution_count": 23,
   "id": "37cc8cb2",
   "metadata": {},
   "outputs": [
    {
     "data": {
      "image/png": "[encoded data removed]",
      "text/plain": [
       "<Figure size 432x288 with 1 Axes>"
      ]
     },
     "metadata": {
      "needs_background": "light"
     },
     "output_type": "display_data"
    }
   ],
   "source": [
    "plt.scatter(df['HDev'],df['VDev'])\n",
    "plt.ylabel(\"Horizontal movement (inches)\")\n",
    "plt.xlabel(\"Vertical movement (inches)\")\n",
    "plt.show()"
   ]
  },
  {
   "cell_type": "markdown",
   "id": "2859c086",
   "metadata": {},
   "source": [
    "## Part Three \n"
   ]
  },
  {
   "cell_type": "code",
   "execution_count": 5,
   "id": "ccfbd33d",
   "metadata": {},
   "outputs": [
    {
     "data": {
      "text/html": [
       "<div>\n",
       "<style scoped>\n",
       "    .dataframe tbody tr th:only-of-type {\n",
       "        vertical-align: middle;\n",
       "    }\n",
       "\n",
       "    .dataframe tbody tr th {\n",
       "        vertical-align: top;\n",
       "    }\n",
       "\n",
       "    .dataframe thead th {\n",
       "        text-align: right;\n",
       "    }\n",
       "</style>\n",
       "<table border=\"1\" class=\"dataframe\">\n",
       "  <thead>\n",
       "    <tr style=\"text-align: right;\">\n",
       "      <th></th>\n",
       "      <th>Outcome</th>\n",
       "      <th>Frequency</th>\n",
       "      <th>Percent</th>\n",
       "    </tr>\n",
       "  </thead>\n",
       "  <tbody>\n",
       "    <tr>\n",
       "      <th>0</th>\n",
       "      <td>Ball</td>\n",
       "      <td>1058</td>\n",
       "      <td>31.099353</td>\n",
       "    </tr>\n",
       "    <tr>\n",
       "      <th>1</th>\n",
       "      <td>Called Strike</td>\n",
       "      <td>605</td>\n",
       "      <td>17.783657</td>\n",
       "    </tr>\n",
       "    <tr>\n",
       "      <th>2</th>\n",
       "      <td>Foul</td>\n",
       "      <td>605</td>\n",
       "      <td>17.783657</td>\n",
       "    </tr>\n",
       "    <tr>\n",
       "      <th>3</th>\n",
       "      <td>In play, out(s)</td>\n",
       "      <td>434</td>\n",
       "      <td>12.757202</td>\n",
       "    </tr>\n",
       "    <tr>\n",
       "      <th>4</th>\n",
       "      <td>Swinging Strike</td>\n",
       "      <td>335</td>\n",
       "      <td>9.847149</td>\n",
       "    </tr>\n",
       "    <tr>\n",
       "      <th>5</th>\n",
       "      <td>In play, no out</td>\n",
       "      <td>139</td>\n",
       "      <td>4.085832</td>\n",
       "    </tr>\n",
       "    <tr>\n",
       "      <th>6</th>\n",
       "      <td>Ball In Dirt</td>\n",
       "      <td>72</td>\n",
       "      <td>2.116402</td>\n",
       "    </tr>\n",
       "    <tr>\n",
       "      <th>7</th>\n",
       "      <td>Swinging Strike (Blocked)</td>\n",
       "      <td>51</td>\n",
       "      <td>1.499118</td>\n",
       "    </tr>\n",
       "    <tr>\n",
       "      <th>8</th>\n",
       "      <td>In play, run(s)</td>\n",
       "      <td>44</td>\n",
       "      <td>1.293357</td>\n",
       "    </tr>\n",
       "    <tr>\n",
       "      <th>9</th>\n",
       "      <td>Foul Tip</td>\n",
       "      <td>35</td>\n",
       "      <td>1.028807</td>\n",
       "    </tr>\n",
       "    <tr>\n",
       "      <th>10</th>\n",
       "      <td>Foul Bunt</td>\n",
       "      <td>13</td>\n",
       "      <td>0.382128</td>\n",
       "    </tr>\n",
       "    <tr>\n",
       "      <th>11</th>\n",
       "      <td>Foul (Runner Going)</td>\n",
       "      <td>5</td>\n",
       "      <td>0.146972</td>\n",
       "    </tr>\n",
       "    <tr>\n",
       "      <th>12</th>\n",
       "      <td>Missed Bunt</td>\n",
       "      <td>3</td>\n",
       "      <td>0.088183</td>\n",
       "    </tr>\n",
       "    <tr>\n",
       "      <th>13</th>\n",
       "      <td>Hit By Pitch</td>\n",
       "      <td>3</td>\n",
       "      <td>0.088183</td>\n",
       "    </tr>\n",
       "  </tbody>\n",
       "</table>\n",
       "</div>"
      ],
      "text/plain": [
       "                      Outcome  Frequency    Percent\n",
       "0                        Ball       1058  31.099353\n",
       "1               Called Strike        605  17.783657\n",
       "2                        Foul        605  17.783657\n",
       "3             In play, out(s)        434  12.757202\n",
       "4             Swinging Strike        335   9.847149\n",
       "5             In play, no out        139   4.085832\n",
       "6                Ball In Dirt         72   2.116402\n",
       "7   Swinging Strike (Blocked)         51   1.499118\n",
       "8             In play, run(s)         44   1.293357\n",
       "9                    Foul Tip         35   1.028807\n",
       "10                  Foul Bunt         13   0.382128\n",
       "11        Foul (Runner Going)          5   0.146972\n",
       "12                Missed Bunt          3   0.088183\n",
       "13               Hit By Pitch          3   0.088183"
      ]
     },
     "execution_count": 5,
     "metadata": {},
     "output_type": "execute_result"
    }
   ],
   "source": [
    "freq2=df['Outcome'].value_counts() \n",
    "freq22=pd.DataFrame({'Outcome':freq2.keys(),'Frequency':freq2.values})\n",
    "freq22['Percent']=freq22['Frequency']/freq22['Frequency'].sum()*100\n",
    "freq22\n"
   ]
  },
  {
   "cell_type": "code",
   "execution_count": 34,
   "id": "56a60b01",
   "metadata": {
    "scrolled": true
   },
   "outputs": [
    {
     "data": {
      "text/html": [
       "<div>\n",
       "<style scoped>\n",
       "    .dataframe tbody tr th:only-of-type {\n",
       "        vertical-align: middle;\n",
       "    }\n",
       "\n",
       "    .dataframe tbody tr th {\n",
       "        vertical-align: top;\n",
       "    }\n",
       "\n",
       "    .dataframe thead th {\n",
       "        text-align: right;\n",
       "    }\n",
       "</style>\n",
       "<table border=\"1\" class=\"dataframe\">\n",
       "  <thead>\n",
       "    <tr style=\"text-align: right;\">\n",
       "      <th></th>\n",
       "      <th>Class(B=ball, S=strike, or X=in play)</th>\n",
       "      <th>Frequency</th>\n",
       "      <th>Percent</th>\n",
       "    </tr>\n",
       "  </thead>\n",
       "  <tbody>\n",
       "    <tr>\n",
       "      <th>0</th>\n",
       "      <td>S</td>\n",
       "      <td>1652</td>\n",
       "      <td>48.559671</td>\n",
       "    </tr>\n",
       "    <tr>\n",
       "      <th>1</th>\n",
       "      <td>B</td>\n",
       "      <td>1133</td>\n",
       "      <td>33.303939</td>\n",
       "    </tr>\n",
       "    <tr>\n",
       "      <th>2</th>\n",
       "      <td>X</td>\n",
       "      <td>617</td>\n",
       "      <td>18.136390</td>\n",
       "    </tr>\n",
       "  </tbody>\n",
       "</table>\n",
       "</div>"
      ],
      "text/plain": [
       "  Class(B=ball, S=strike, or X=in play)  Frequency    Percent\n",
       "0                                     S       1652  48.559671\n",
       "1                                     B       1133  33.303939\n",
       "2                                     X        617  18.136390"
      ]
     },
     "execution_count": 34,
     "metadata": {},
     "output_type": "execute_result"
    }
   ],
   "source": [
    "freq3=df['Class'].value_counts()\n",
    "freq33=pd.DataFrame({'Class(B=ball, S=strike, or X=in play)':freq3.keys(),'Frequency':freq3.values})\n",
    "freq33['Percent']=freq33['Frequency']/freq33['Frequency'].sum()*100\n",
    "freq33\n",
    "\n"
   ]
  },
  {
   "cell_type": "code",
   "execution_count": 35,
   "id": "5216de03",
   "metadata": {
    "scrolled": true
   },
   "outputs": [
    {
     "data": {
      "text/html": [
       "<div>\n",
       "<style scoped>\n",
       "    .dataframe tbody tr th:only-of-type {\n",
       "        vertical-align: middle;\n",
       "    }\n",
       "\n",
       "    .dataframe tbody tr th {\n",
       "        vertical-align: top;\n",
       "    }\n",
       "\n",
       "    .dataframe thead th {\n",
       "        text-align: right;\n",
       "    }\n",
       "</style>\n",
       "<table border=\"1\" class=\"dataframe\">\n",
       "  <thead>\n",
       "    <tr style=\"text-align: right;\">\n",
       "      <th></th>\n",
       "      <th>Class (Neg=ball or hit, Pos=strike or out)</th>\n",
       "      <th>Frequency</th>\n",
       "      <th>Percent</th>\n",
       "    </tr>\n",
       "  </thead>\n",
       "  <tbody>\n",
       "    <tr>\n",
       "      <th>0</th>\n",
       "      <td>Pos</td>\n",
       "      <td>2086</td>\n",
       "      <td>61.316872</td>\n",
       "    </tr>\n",
       "    <tr>\n",
       "      <th>1</th>\n",
       "      <td>Neg</td>\n",
       "      <td>1316</td>\n",
       "      <td>38.683128</td>\n",
       "    </tr>\n",
       "  </tbody>\n",
       "</table>\n",
       "</div>"
      ],
      "text/plain": [
       "  Class (Neg=ball or hit, Pos=strike or out)  Frequency    Percent\n",
       "0                                        Pos       2086  61.316872\n",
       "1                                        Neg       1316  38.683128"
      ]
     },
     "execution_count": 35,
     "metadata": {},
     "output_type": "execute_result"
    }
   ],
   "source": [
    "freq4=df['Result'].value_counts()\n",
    "freq44=pd.DataFrame({'Class (Neg=ball or hit, Pos=strike or out)':freq4.keys(),'Frequency':freq4.values})\n",
    "freq44['Percent']=freq44['Frequency']/freq44['Frequency'].sum()*100\n",
    "freq44\n"
   ]
  },
  {
   "cell_type": "code",
   "execution_count": 48,
   "id": "9570e12f",
   "metadata": {},
   "outputs": [
    {
     "data": {
      "text/html": [
       "<div>\n",
       "<style scoped>\n",
       "    .dataframe tbody tr th:only-of-type {\n",
       "        vertical-align: middle;\n",
       "    }\n",
       "\n",
       "    .dataframe tbody tr th {\n",
       "        vertical-align: top;\n",
       "    }\n",
       "\n",
       "    .dataframe thead th {\n",
       "        text-align: right;\n",
       "    }\n",
       "</style>\n",
       "<table border=\"1\" class=\"dataframe\">\n",
       "  <thead>\n",
       "    <tr style=\"text-align: right;\">\n",
       "      <th></th>\n",
       "      <th>Swing (No or Yes)</th>\n",
       "      <th>Frequency</th>\n",
       "      <th>Percent</th>\n",
       "    </tr>\n",
       "  </thead>\n",
       "  <tbody>\n",
       "    <tr>\n",
       "      <th>0</th>\n",
       "      <td>No</td>\n",
       "      <td>1735</td>\n",
       "      <td>50.999412</td>\n",
       "    </tr>\n",
       "    <tr>\n",
       "      <th>1</th>\n",
       "      <td>Yes</td>\n",
       "      <td>1667</td>\n",
       "      <td>49.000588</td>\n",
       "    </tr>\n",
       "  </tbody>\n",
       "</table>\n",
       "</div>"
      ],
      "text/plain": [
       "  Swing (No or Yes)  Frequency    Percent\n",
       "0                No       1735  50.999412\n",
       "1               Yes       1667  49.000588"
      ]
     },
     "execution_count": 48,
     "metadata": {},
     "output_type": "execute_result"
    }
   ],
   "source": [
    "freq5=df['Swing'].value_counts()\n",
    "freq55=pd.DataFrame({'Swing (No or Yes)':freq5.keys(),'Frequency':freq5.values})\n",
    "freq55['Percent']=freq55['Frequency']/freq55['Frequency'].sum()*100\n",
    "freq55\n"
   ]
  },
  {
   "cell_type": "code",
   "execution_count": 47,
   "id": "8bfd8679",
   "metadata": {},
   "outputs": [
    {
     "data": {
      "text/html": [
       "<div>\n",
       "<style scoped>\n",
       "    .dataframe tbody tr th:only-of-type {\n",
       "        vertical-align: middle;\n",
       "    }\n",
       "\n",
       "    .dataframe tbody tr th {\n",
       "        vertical-align: top;\n",
       "    }\n",
       "\n",
       "    .dataframe thead th {\n",
       "        text-align: right;\n",
       "    }\n",
       "</style>\n",
       "<table border=\"1\" class=\"dataframe\">\n",
       "  <thead>\n",
       "    <tr style=\"text-align: right;\">\n",
       "      <th></th>\n",
       "      <th>Pitchtype(CH=changeup, CU=curve, FF=fastball, or SL=slider)</th>\n",
       "      <th>Frequency</th>\n",
       "      <th>Percent</th>\n",
       "    </tr>\n",
       "  </thead>\n",
       "  <tbody>\n",
       "    <tr>\n",
       "      <th>0</th>\n",
       "      <td>FF</td>\n",
       "      <td>2060</td>\n",
       "      <td>60.552616</td>\n",
       "    </tr>\n",
       "    <tr>\n",
       "      <th>1</th>\n",
       "      <td>SL</td>\n",
       "      <td>834</td>\n",
       "      <td>24.514991</td>\n",
       "    </tr>\n",
       "    <tr>\n",
       "      <th>2</th>\n",
       "      <td>CU</td>\n",
       "      <td>425</td>\n",
       "      <td>12.492651</td>\n",
       "    </tr>\n",
       "    <tr>\n",
       "      <th>3</th>\n",
       "      <td>CH</td>\n",
       "      <td>83</td>\n",
       "      <td>2.439741</td>\n",
       "    </tr>\n",
       "  </tbody>\n",
       "</table>\n",
       "</div>"
      ],
      "text/plain": [
       "  Pitchtype(CH=changeup, CU=curve, FF=fastball, or SL=slider)  Frequency  \\\n",
       "0                                                 FF                2060   \n",
       "1                                                 SL                 834   \n",
       "2                                                 CU                 425   \n",
       "3                                                 CH                  83   \n",
       "\n",
       "     Percent  \n",
       "0  60.552616  \n",
       "1  24.514991  \n",
       "2  12.492651  \n",
       "3   2.439741  "
      ]
     },
     "execution_count": 47,
     "metadata": {},
     "output_type": "execute_result"
    }
   ],
   "source": [
    "freq6=df['PitchType'].value_counts()\n",
    "freq66=pd.DataFrame({'Pitchtype(CH=changeup, CU=curve, FF=fastball, or SL=slider)':freq6.keys(),'Frequency':freq6.values})\n",
    "freq66['Percent']=freq66['Frequency']/freq66['Frequency'].sum()*100\n",
    "freq66\n"
   ]
  },
  {
   "cell_type": "code",
   "execution_count": 38,
   "id": "68f9ad72",
   "metadata": {},
   "outputs": [
    {
     "data": {
      "text/html": [
       "<div>\n",
       "<style scoped>\n",
       "    .dataframe tbody tr th:only-of-type {\n",
       "        vertical-align: middle;\n",
       "    }\n",
       "\n",
       "    .dataframe tbody tr th {\n",
       "        vertical-align: top;\n",
       "    }\n",
       "\n",
       "    .dataframe thead th {\n",
       "        text-align: right;\n",
       "    }\n",
       "</style>\n",
       "<table border=\"1\" class=\"dataframe\">\n",
       "  <thead>\n",
       "    <tr style=\"text-align: right;\">\n",
       "      <th></th>\n",
       "      <th>Right/Left</th>\n",
       "      <th>Frequency</th>\n",
       "      <th>Percent</th>\n",
       "    </tr>\n",
       "  </thead>\n",
       "  <tbody>\n",
       "    <tr>\n",
       "      <th>0</th>\n",
       "      <td>R</td>\n",
       "      <td>2694</td>\n",
       "      <td>79.188713</td>\n",
       "    </tr>\n",
       "    <tr>\n",
       "      <th>1</th>\n",
       "      <td>L</td>\n",
       "      <td>708</td>\n",
       "      <td>20.811287</td>\n",
       "    </tr>\n",
       "  </tbody>\n",
       "</table>\n",
       "</div>"
      ],
      "text/plain": [
       "  Right/Left  Frequency    Percent\n",
       "0          R       2694  79.188713\n",
       "1          L        708  20.811287"
      ]
     },
     "execution_count": 38,
     "metadata": {},
     "output_type": "execute_result"
    }
   ],
   "source": [
    "freq7=df['BatterHand'].value_counts()\n",
    "freq77=pd.DataFrame({'Right/Left':freq7.keys(),'Frequency':freq7.values})\n",
    "freq77['Percent']=freq77['Frequency']/freq77['Frequency'].sum()*100\n",
    "freq77\n"
   ]
  },
  {
   "cell_type": "markdown",
   "id": "bb8ea959",
   "metadata": {},
   "source": [
    "## Part Four "
   ]
  },
  {
   "cell_type": "code",
   "execution_count": 44,
   "id": "0fcbaa64",
   "metadata": {
    "scrolled": true
   },
   "outputs": [
    {
     "data": {
      "text/html": [
       "<div>\n",
       "<style scoped>\n",
       "    .dataframe tbody tr th:only-of-type {\n",
       "        vertical-align: middle;\n",
       "    }\n",
       "\n",
       "    .dataframe tbody tr th {\n",
       "        vertical-align: top;\n",
       "    }\n",
       "\n",
       "    .dataframe thead th {\n",
       "        text-align: right;\n",
       "    }\n",
       "</style>\n",
       "<table border=\"1\" class=\"dataframe\">\n",
       "  <thead>\n",
       "    <tr style=\"text-align: right;\">\n",
       "      <th>StartSpeed</th>\n",
       "      <th>69.5</th>\n",
       "      <th>69.9</th>\n",
       "      <th>70.0</th>\n",
       "      <th>70.1</th>\n",
       "      <th>70.2</th>\n",
       "      <th>70.9</th>\n",
       "      <th>71.1</th>\n",
       "      <th>71.2</th>\n",
       "      <th>71.3</th>\n",
       "      <th>71.5</th>\n",
       "      <th>...</th>\n",
       "      <th>94.7</th>\n",
       "      <th>94.8</th>\n",
       "      <th>94.9</th>\n",
       "      <th>95.0</th>\n",
       "      <th>95.1</th>\n",
       "      <th>95.2</th>\n",
       "      <th>95.4</th>\n",
       "      <th>95.5</th>\n",
       "      <th>95.6</th>\n",
       "      <th>All</th>\n",
       "    </tr>\n",
       "    <tr>\n",
       "      <th>Swing</th>\n",
       "      <th></th>\n",
       "      <th></th>\n",
       "      <th></th>\n",
       "      <th></th>\n",
       "      <th></th>\n",
       "      <th></th>\n",
       "      <th></th>\n",
       "      <th></th>\n",
       "      <th></th>\n",
       "      <th></th>\n",
       "      <th></th>\n",
       "      <th></th>\n",
       "      <th></th>\n",
       "      <th></th>\n",
       "      <th></th>\n",
       "      <th></th>\n",
       "      <th></th>\n",
       "      <th></th>\n",
       "      <th></th>\n",
       "      <th></th>\n",
       "      <th></th>\n",
       "    </tr>\n",
       "  </thead>\n",
       "  <tbody>\n",
       "    <tr>\n",
       "      <th>No</th>\n",
       "      <td>1</td>\n",
       "      <td>1</td>\n",
       "      <td>0</td>\n",
       "      <td>1</td>\n",
       "      <td>1</td>\n",
       "      <td>1</td>\n",
       "      <td>2</td>\n",
       "      <td>2</td>\n",
       "      <td>3</td>\n",
       "      <td>1</td>\n",
       "      <td>...</td>\n",
       "      <td>4</td>\n",
       "      <td>1</td>\n",
       "      <td>1</td>\n",
       "      <td>1</td>\n",
       "      <td>1</td>\n",
       "      <td>1</td>\n",
       "      <td>1</td>\n",
       "      <td>1</td>\n",
       "      <td>1</td>\n",
       "      <td>1735</td>\n",
       "    </tr>\n",
       "    <tr>\n",
       "      <th>Yes</th>\n",
       "      <td>0</td>\n",
       "      <td>0</td>\n",
       "      <td>1</td>\n",
       "      <td>0</td>\n",
       "      <td>0</td>\n",
       "      <td>0</td>\n",
       "      <td>0</td>\n",
       "      <td>0</td>\n",
       "      <td>0</td>\n",
       "      <td>0</td>\n",
       "      <td>...</td>\n",
       "      <td>3</td>\n",
       "      <td>2</td>\n",
       "      <td>0</td>\n",
       "      <td>2</td>\n",
       "      <td>0</td>\n",
       "      <td>0</td>\n",
       "      <td>0</td>\n",
       "      <td>0</td>\n",
       "      <td>0</td>\n",
       "      <td>1667</td>\n",
       "    </tr>\n",
       "    <tr>\n",
       "      <th>All</th>\n",
       "      <td>1</td>\n",
       "      <td>1</td>\n",
       "      <td>1</td>\n",
       "      <td>1</td>\n",
       "      <td>1</td>\n",
       "      <td>1</td>\n",
       "      <td>2</td>\n",
       "      <td>2</td>\n",
       "      <td>3</td>\n",
       "      <td>1</td>\n",
       "      <td>...</td>\n",
       "      <td>7</td>\n",
       "      <td>3</td>\n",
       "      <td>1</td>\n",
       "      <td>3</td>\n",
       "      <td>1</td>\n",
       "      <td>1</td>\n",
       "      <td>1</td>\n",
       "      <td>1</td>\n",
       "      <td>1</td>\n",
       "      <td>3402</td>\n",
       "    </tr>\n",
       "  </tbody>\n",
       "</table>\n",
       "<p>3 rows × 211 columns</p>\n",
       "</div>"
      ],
      "text/plain": [
       "StartSpeed  69.5  69.9  70.0  70.1  70.2  70.9  71.1  71.2  71.3  71.5  ...  \\\n",
       "Swing                                                                   ...   \n",
       "No             1     1     0     1     1     1     2     2     3     1  ...   \n",
       "Yes            0     0     1     0     0     0     0     0     0     0  ...   \n",
       "All            1     1     1     1     1     1     2     2     3     1  ...   \n",
       "\n",
       "StartSpeed  94.7  94.8  94.9  95.0  95.1  95.2  95.4  95.5  95.6   All  \n",
       "Swing                                                                   \n",
       "No             4     1     1     1     1     1     1     1     1  1735  \n",
       "Yes            3     2     0     2     0     0     0     0     0  1667  \n",
       "All            7     3     1     3     1     1     1     1     1  3402  \n",
       "\n",
       "[3 rows x 211 columns]"
      ]
     },
     "execution_count": 44,
     "metadata": {},
     "output_type": "execute_result"
    }
   ],
   "source": [
    "pd.crosstab(index=df['Swing'],columns=df['StartSpeed'],margins=True)"
   ]
  },
  {
   "cell_type": "markdown",
   "id": "825b0d2d",
   "metadata": {},
   "source": [
    "This shows that when he does swing the speed is much more consantly higher then when he doesn’t this should mean that he should swing more regularly "
   ]
  },
  {
   "cell_type": "code",
   "execution_count": 50,
   "id": "7ff5d6cc",
   "metadata": {},
   "outputs": [
    {
     "data": {
      "text/html": [
       "<div>\n",
       "<style scoped>\n",
       "    .dataframe tbody tr th:only-of-type {\n",
       "        vertical-align: middle;\n",
       "    }\n",
       "\n",
       "    .dataframe tbody tr th {\n",
       "        vertical-align: top;\n",
       "    }\n",
       "\n",
       "    .dataframe thead th {\n",
       "        text-align: right;\n",
       "    }\n",
       "</style>\n",
       "<table border=\"1\" class=\"dataframe\">\n",
       "  <thead>\n",
       "    <tr style=\"text-align: right;\">\n",
       "      <th>StrikeCount</th>\n",
       "      <th>0</th>\n",
       "      <th>1</th>\n",
       "      <th>2</th>\n",
       "      <th>All</th>\n",
       "    </tr>\n",
       "    <tr>\n",
       "      <th>Class</th>\n",
       "      <th></th>\n",
       "      <th></th>\n",
       "      <th></th>\n",
       "      <th></th>\n",
       "    </tr>\n",
       "  </thead>\n",
       "  <tbody>\n",
       "    <tr>\n",
       "      <th>B</th>\n",
       "      <td>306</td>\n",
       "      <td>492</td>\n",
       "      <td>335</td>\n",
       "      <td>1133</td>\n",
       "    </tr>\n",
       "    <tr>\n",
       "      <th>S</th>\n",
       "      <td>430</td>\n",
       "      <td>703</td>\n",
       "      <td>519</td>\n",
       "      <td>1652</td>\n",
       "    </tr>\n",
       "    <tr>\n",
       "      <th>X</th>\n",
       "      <td>163</td>\n",
       "      <td>266</td>\n",
       "      <td>188</td>\n",
       "      <td>617</td>\n",
       "    </tr>\n",
       "    <tr>\n",
       "      <th>All</th>\n",
       "      <td>899</td>\n",
       "      <td>1461</td>\n",
       "      <td>1042</td>\n",
       "      <td>3402</td>\n",
       "    </tr>\n",
       "  </tbody>\n",
       "</table>\n",
       "</div>"
      ],
      "text/plain": [
       "StrikeCount    0     1     2   All\n",
       "Class                             \n",
       "B            306   492   335  1133\n",
       "S            430   703   519  1652\n",
       "X            163   266   188   617\n",
       "All          899  1461  1042  3402"
      ]
     },
     "execution_count": 50,
     "metadata": {},
     "output_type": "execute_result"
    }
   ],
   "source": [
    "pd.crosstab(index=df['Class'],columns=df['StrikeCount'],margins=True)"
   ]
  },
  {
   "cell_type": "markdown",
   "id": "7c741ea4",
   "metadata": {},
   "source": [
    "this shows that there isnt any corellation between the class of the bat ant the strikes he makes"
   ]
  },
  {
   "cell_type": "code",
   "execution_count": 52,
   "id": "14080c4b",
   "metadata": {},
   "outputs": [
    {
     "data": {
      "text/html": [
       "<div>\n",
       "<style scoped>\n",
       "    .dataframe tbody tr th:only-of-type {\n",
       "        vertical-align: middle;\n",
       "    }\n",
       "\n",
       "    .dataframe tbody tr th {\n",
       "        vertical-align: top;\n",
       "    }\n",
       "\n",
       "    .dataframe thead th {\n",
       "        text-align: right;\n",
       "    }\n",
       "</style>\n",
       "<table border=\"1\" class=\"dataframe\">\n",
       "  <thead>\n",
       "    <tr style=\"text-align: right;\">\n",
       "      <th>Zone</th>\n",
       "      <th>1</th>\n",
       "      <th>2</th>\n",
       "      <th>3</th>\n",
       "      <th>4</th>\n",
       "      <th>5</th>\n",
       "      <th>6</th>\n",
       "      <th>7</th>\n",
       "      <th>8</th>\n",
       "      <th>9</th>\n",
       "      <th>11</th>\n",
       "      <th>12</th>\n",
       "      <th>13</th>\n",
       "      <th>14</th>\n",
       "      <th>All</th>\n",
       "    </tr>\n",
       "    <tr>\n",
       "      <th>PitchType</th>\n",
       "      <th></th>\n",
       "      <th></th>\n",
       "      <th></th>\n",
       "      <th></th>\n",
       "      <th></th>\n",
       "      <th></th>\n",
       "      <th></th>\n",
       "      <th></th>\n",
       "      <th></th>\n",
       "      <th></th>\n",
       "      <th></th>\n",
       "      <th></th>\n",
       "      <th></th>\n",
       "      <th></th>\n",
       "    </tr>\n",
       "  </thead>\n",
       "  <tbody>\n",
       "    <tr>\n",
       "      <th>CH</th>\n",
       "      <td>3</td>\n",
       "      <td>4</td>\n",
       "      <td>4</td>\n",
       "      <td>2</td>\n",
       "      <td>3</td>\n",
       "      <td>3</td>\n",
       "      <td>3</td>\n",
       "      <td>5</td>\n",
       "      <td>6</td>\n",
       "      <td>1</td>\n",
       "      <td>7</td>\n",
       "      <td>19</td>\n",
       "      <td>23</td>\n",
       "      <td>83</td>\n",
       "    </tr>\n",
       "    <tr>\n",
       "      <th>CU</th>\n",
       "      <td>8</td>\n",
       "      <td>17</td>\n",
       "      <td>17</td>\n",
       "      <td>13</td>\n",
       "      <td>16</td>\n",
       "      <td>19</td>\n",
       "      <td>16</td>\n",
       "      <td>18</td>\n",
       "      <td>17</td>\n",
       "      <td>22</td>\n",
       "      <td>56</td>\n",
       "      <td>120</td>\n",
       "      <td>86</td>\n",
       "      <td>425</td>\n",
       "    </tr>\n",
       "    <tr>\n",
       "      <th>FF</th>\n",
       "      <td>138</td>\n",
       "      <td>116</td>\n",
       "      <td>70</td>\n",
       "      <td>158</td>\n",
       "      <td>130</td>\n",
       "      <td>98</td>\n",
       "      <td>110</td>\n",
       "      <td>87</td>\n",
       "      <td>48</td>\n",
       "      <td>402</td>\n",
       "      <td>217</td>\n",
       "      <td>350</td>\n",
       "      <td>136</td>\n",
       "      <td>2060</td>\n",
       "    </tr>\n",
       "    <tr>\n",
       "      <th>SL</th>\n",
       "      <td>29</td>\n",
       "      <td>28</td>\n",
       "      <td>21</td>\n",
       "      <td>48</td>\n",
       "      <td>49</td>\n",
       "      <td>28</td>\n",
       "      <td>56</td>\n",
       "      <td>41</td>\n",
       "      <td>18</td>\n",
       "      <td>104</td>\n",
       "      <td>74</td>\n",
       "      <td>258</td>\n",
       "      <td>80</td>\n",
       "      <td>834</td>\n",
       "    </tr>\n",
       "    <tr>\n",
       "      <th>All</th>\n",
       "      <td>178</td>\n",
       "      <td>165</td>\n",
       "      <td>112</td>\n",
       "      <td>221</td>\n",
       "      <td>198</td>\n",
       "      <td>148</td>\n",
       "      <td>185</td>\n",
       "      <td>151</td>\n",
       "      <td>89</td>\n",
       "      <td>529</td>\n",
       "      <td>354</td>\n",
       "      <td>747</td>\n",
       "      <td>325</td>\n",
       "      <td>3402</td>\n",
       "    </tr>\n",
       "  </tbody>\n",
       "</table>\n",
       "</div>"
      ],
      "text/plain": [
       "Zone         1    2    3    4    5    6    7    8   9   11   12   13   14  \\\n",
       "PitchType                                                                   \n",
       "CH           3    4    4    2    3    3    3    5   6    1    7   19   23   \n",
       "CU           8   17   17   13   16   19   16   18  17   22   56  120   86   \n",
       "FF         138  116   70  158  130   98  110   87  48  402  217  350  136   \n",
       "SL          29   28   21   48   49   28   56   41  18  104   74  258   80   \n",
       "All        178  165  112  221  198  148  185  151  89  529  354  747  325   \n",
       "\n",
       "Zone        All  \n",
       "PitchType        \n",
       "CH           83  \n",
       "CU          425  \n",
       "FF         2060  \n",
       "SL          834  \n",
       "All        3402  "
      ]
     },
     "execution_count": 52,
     "metadata": {},
     "output_type": "execute_result"
    }
   ],
   "source": [
    "pd.crosstab(index=df['PitchType'],columns=df['Zone'],margins=True)"
   ]
  },
  {
   "cell_type": "code",
   "execution_count": 61,
   "id": "ad73332c",
   "metadata": {},
   "outputs": [
    {
     "data": {
      "text/html": [
       "<div>\n",
       "<style scoped>\n",
       "    .dataframe tbody tr th:only-of-type {\n",
       "        vertical-align: middle;\n",
       "    }\n",
       "\n",
       "    .dataframe tbody tr th {\n",
       "        vertical-align: top;\n",
       "    }\n",
       "\n",
       "    .dataframe thead th {\n",
       "        text-align: right;\n",
       "    }\n",
       "</style>\n",
       "<table border=\"1\" class=\"dataframe\">\n",
       "  <thead>\n",
       "    <tr style=\"text-align: right;\">\n",
       "      <th>PitchType</th>\n",
       "      <th>CH</th>\n",
       "      <th>CU</th>\n",
       "      <th>FF</th>\n",
       "      <th>SL</th>\n",
       "      <th>All</th>\n",
       "    </tr>\n",
       "    <tr>\n",
       "      <th>BatterHand</th>\n",
       "      <th></th>\n",
       "      <th></th>\n",
       "      <th></th>\n",
       "      <th></th>\n",
       "      <th></th>\n",
       "    </tr>\n",
       "  </thead>\n",
       "  <tbody>\n",
       "    <tr>\n",
       "      <th>L</th>\n",
       "      <td>2</td>\n",
       "      <td>77</td>\n",
       "      <td>466</td>\n",
       "      <td>163</td>\n",
       "      <td>708</td>\n",
       "    </tr>\n",
       "    <tr>\n",
       "      <th>R</th>\n",
       "      <td>81</td>\n",
       "      <td>348</td>\n",
       "      <td>1594</td>\n",
       "      <td>671</td>\n",
       "      <td>2694</td>\n",
       "    </tr>\n",
       "    <tr>\n",
       "      <th>All</th>\n",
       "      <td>83</td>\n",
       "      <td>425</td>\n",
       "      <td>2060</td>\n",
       "      <td>834</td>\n",
       "      <td>3402</td>\n",
       "    </tr>\n",
       "  </tbody>\n",
       "</table>\n",
       "</div>"
      ],
      "text/plain": [
       "PitchType   CH   CU    FF   SL   All\n",
       "BatterHand                          \n",
       "L            2   77   466  163   708\n",
       "R           81  348  1594  671  2694\n",
       "All         83  425  2060  834  3402"
      ]
     },
     "execution_count": 61,
     "metadata": {},
     "output_type": "execute_result"
    }
   ],
   "source": [
    "pd.crosstab(index=df['BatterHand'],columns=df['PitchType'],margins=True)"
   ]
  },
  {
   "cell_type": "markdown",
   "id": "1c57b2ed",
   "metadata": {},
   "source": [
    "this shows that he uses his right hand much more often which means he is much more confident with his right hand"
   ]
  },
  {
   "cell_type": "code",
   "execution_count": 67,
   "id": "29bd6b41",
   "metadata": {},
   "outputs": [
    {
     "data": {
      "text/html": [
       "<div>\n",
       "<style scoped>\n",
       "    .dataframe tbody tr th:only-of-type {\n",
       "        vertical-align: middle;\n",
       "    }\n",
       "\n",
       "    .dataframe tbody tr th {\n",
       "        vertical-align: top;\n",
       "    }\n",
       "\n",
       "    .dataframe thead th {\n",
       "        text-align: right;\n",
       "    }\n",
       "</style>\n",
       "<table border=\"1\" class=\"dataframe\">\n",
       "  <thead>\n",
       "    <tr style=\"text-align: right;\">\n",
       "      <th>Outs</th>\n",
       "      <th>0</th>\n",
       "      <th>1</th>\n",
       "      <th>2</th>\n",
       "      <th>3</th>\n",
       "      <th>All</th>\n",
       "    </tr>\n",
       "    <tr>\n",
       "      <th>BatterHand</th>\n",
       "      <th></th>\n",
       "      <th></th>\n",
       "      <th></th>\n",
       "      <th></th>\n",
       "      <th></th>\n",
       "    </tr>\n",
       "  </thead>\n",
       "  <tbody>\n",
       "    <tr>\n",
       "      <th>L</th>\n",
       "      <td>75</td>\n",
       "      <td>209</td>\n",
       "      <td>258</td>\n",
       "      <td>166</td>\n",
       "      <td>708</td>\n",
       "    </tr>\n",
       "    <tr>\n",
       "      <th>R</th>\n",
       "      <td>274</td>\n",
       "      <td>872</td>\n",
       "      <td>835</td>\n",
       "      <td>713</td>\n",
       "      <td>2694</td>\n",
       "    </tr>\n",
       "    <tr>\n",
       "      <th>All</th>\n",
       "      <td>349</td>\n",
       "      <td>1081</td>\n",
       "      <td>1093</td>\n",
       "      <td>879</td>\n",
       "      <td>3402</td>\n",
       "    </tr>\n",
       "  </tbody>\n",
       "</table>\n",
       "</div>"
      ],
      "text/plain": [
       "Outs          0     1     2    3   All\n",
       "BatterHand                            \n",
       "L            75   209   258  166   708\n",
       "R           274   872   835  713  2694\n",
       "All         349  1081  1093  879  3402"
      ]
     },
     "execution_count": 67,
     "metadata": {},
     "output_type": "execute_result"
    }
   ],
   "source": [
    "pd.crosstab(index=df['BatterHand'],columns=df['Outs'],margins=True)"
   ]
  },
  {
   "cell_type": "markdown",
   "id": "ba9b8249",
   "metadata": {},
   "source": [
    "he still has almost the same ratio of outs whether its with his right or left hand."
   ]
  },
  {
   "cell_type": "code",
   "execution_count": 63,
   "id": "cee456e8",
   "metadata": {},
   "outputs": [
    {
     "data": {
      "text/html": [
       "<div>\n",
       "<style scoped>\n",
       "    .dataframe tbody tr th:only-of-type {\n",
       "        vertical-align: middle;\n",
       "    }\n",
       "\n",
       "    .dataframe tbody tr th {\n",
       "        vertical-align: top;\n",
       "    }\n",
       "\n",
       "    .dataframe thead th {\n",
       "        text-align: right;\n",
       "    }\n",
       "</style>\n",
       "<table border=\"1\" class=\"dataframe\">\n",
       "  <thead>\n",
       "    <tr style=\"text-align: right;\">\n",
       "      <th>Inning</th>\n",
       "      <th>1</th>\n",
       "      <th>2</th>\n",
       "      <th>3</th>\n",
       "      <th>4</th>\n",
       "      <th>5</th>\n",
       "      <th>6</th>\n",
       "      <th>7</th>\n",
       "      <th>8</th>\n",
       "      <th>9</th>\n",
       "    </tr>\n",
       "    <tr>\n",
       "      <th>Batter</th>\n",
       "      <th></th>\n",
       "      <th></th>\n",
       "      <th></th>\n",
       "      <th></th>\n",
       "      <th></th>\n",
       "      <th></th>\n",
       "      <th></th>\n",
       "      <th></th>\n",
       "      <th></th>\n",
       "    </tr>\n",
       "  </thead>\n",
       "  <tbody>\n",
       "    <tr>\n",
       "      <th>A.J. Burnett</th>\n",
       "      <td>0</td>\n",
       "      <td>0</td>\n",
       "      <td>3</td>\n",
       "      <td>0</td>\n",
       "      <td>0</td>\n",
       "      <td>3</td>\n",
       "      <td>0</td>\n",
       "      <td>0</td>\n",
       "      <td>0</td>\n",
       "    </tr>\n",
       "    <tr>\n",
       "      <th>A.J. Pollock</th>\n",
       "      <td>10</td>\n",
       "      <td>0</td>\n",
       "      <td>5</td>\n",
       "      <td>0</td>\n",
       "      <td>15</td>\n",
       "      <td>0</td>\n",
       "      <td>4</td>\n",
       "      <td>2</td>\n",
       "      <td>0</td>\n",
       "    </tr>\n",
       "    <tr>\n",
       "      <th>Adam LaRoche</th>\n",
       "      <td>7</td>\n",
       "      <td>4</td>\n",
       "      <td>0</td>\n",
       "      <td>3</td>\n",
       "      <td>4</td>\n",
       "      <td>3</td>\n",
       "      <td>4</td>\n",
       "      <td>0</td>\n",
       "      <td>10</td>\n",
       "    </tr>\n",
       "    <tr>\n",
       "      <th>Adeiny Hechavarria</th>\n",
       "      <td>0</td>\n",
       "      <td>5</td>\n",
       "      <td>0</td>\n",
       "      <td>2</td>\n",
       "      <td>0</td>\n",
       "      <td>0</td>\n",
       "      <td>2</td>\n",
       "      <td>0</td>\n",
       "      <td>0</td>\n",
       "    </tr>\n",
       "    <tr>\n",
       "      <th>Alex Gonzalez</th>\n",
       "      <td>0</td>\n",
       "      <td>0</td>\n",
       "      <td>0</td>\n",
       "      <td>0</td>\n",
       "      <td>0</td>\n",
       "      <td>0</td>\n",
       "      <td>0</td>\n",
       "      <td>5</td>\n",
       "      <td>0</td>\n",
       "    </tr>\n",
       "    <tr>\n",
       "      <th>...</th>\n",
       "      <td>...</td>\n",
       "      <td>...</td>\n",
       "      <td>...</td>\n",
       "      <td>...</td>\n",
       "      <td>...</td>\n",
       "      <td>...</td>\n",
       "      <td>...</td>\n",
       "      <td>...</td>\n",
       "      <td>...</td>\n",
       "    </tr>\n",
       "    <tr>\n",
       "      <th>Yorvit Torrealba</th>\n",
       "      <td>0</td>\n",
       "      <td>4</td>\n",
       "      <td>0</td>\n",
       "      <td>0</td>\n",
       "      <td>2</td>\n",
       "      <td>0</td>\n",
       "      <td>5</td>\n",
       "      <td>0</td>\n",
       "      <td>0</td>\n",
       "    </tr>\n",
       "    <tr>\n",
       "      <th>Yovani Gallardo</th>\n",
       "      <td>0</td>\n",
       "      <td>0</td>\n",
       "      <td>1</td>\n",
       "      <td>0</td>\n",
       "      <td>6</td>\n",
       "      <td>0</td>\n",
       "      <td>0</td>\n",
       "      <td>0</td>\n",
       "      <td>0</td>\n",
       "    </tr>\n",
       "    <tr>\n",
       "      <th>Yunel Escobar</th>\n",
       "      <td>0</td>\n",
       "      <td>5</td>\n",
       "      <td>0</td>\n",
       "      <td>0</td>\n",
       "      <td>3</td>\n",
       "      <td>0</td>\n",
       "      <td>6</td>\n",
       "      <td>0</td>\n",
       "      <td>0</td>\n",
       "    </tr>\n",
       "    <tr>\n",
       "      <th>Yuniesky Betancourt</th>\n",
       "      <td>0</td>\n",
       "      <td>2</td>\n",
       "      <td>2</td>\n",
       "      <td>0</td>\n",
       "      <td>9</td>\n",
       "      <td>0</td>\n",
       "      <td>0</td>\n",
       "      <td>10</td>\n",
       "      <td>0</td>\n",
       "    </tr>\n",
       "    <tr>\n",
       "      <th>Zachary Cozart</th>\n",
       "      <td>0</td>\n",
       "      <td>6</td>\n",
       "      <td>0</td>\n",
       "      <td>3</td>\n",
       "      <td>5</td>\n",
       "      <td>0</td>\n",
       "      <td>8</td>\n",
       "      <td>0</td>\n",
       "      <td>0</td>\n",
       "    </tr>\n",
       "  </tbody>\n",
       "</table>\n",
       "<p>206 rows × 9 columns</p>\n",
       "</div>"
      ],
      "text/plain": [
       "Inning                1  2  3  4   5  6  7   8   9\n",
       "Batter                                            \n",
       "A.J. Burnett          0  0  3  0   0  3  0   0   0\n",
       "A.J. Pollock         10  0  5  0  15  0  4   2   0\n",
       "Adam LaRoche          7  4  0  3   4  3  4   0  10\n",
       "Adeiny Hechavarria    0  5  0  2   0  0  2   0   0\n",
       "Alex Gonzalez         0  0  0  0   0  0  0   5   0\n",
       "...                  .. .. .. ..  .. .. ..  ..  ..\n",
       "Yorvit Torrealba      0  4  0  0   2  0  5   0   0\n",
       "Yovani Gallardo       0  0  1  0   6  0  0   0   0\n",
       "Yunel Escobar         0  5  0  0   3  0  6   0   0\n",
       "Yuniesky Betancourt   0  2  2  0   9  0  0  10   0\n",
       "Zachary Cozart        0  6  0  3   5  0  8   0   0\n",
       "\n",
       "[206 rows x 9 columns]"
      ]
     },
     "execution_count": 63,
     "metadata": {},
     "output_type": "execute_result"
    }
   ],
   "source": [
    "pd.crosstab(index=df['Batter'],columns=df['Inning'])"
   ]
  },
  {
   "cell_type": "code",
   "execution_count": 68,
   "id": "1faee3fd",
   "metadata": {},
   "outputs": [
    {
     "data": {
      "text/html": [
       "<div>\n",
       "<style scoped>\n",
       "    .dataframe tbody tr th:only-of-type {\n",
       "        vertical-align: middle;\n",
       "    }\n",
       "\n",
       "    .dataframe tbody tr th {\n",
       "        vertical-align: top;\n",
       "    }\n",
       "\n",
       "    .dataframe thead th {\n",
       "        text-align: right;\n",
       "    }\n",
       "</style>\n",
       "<table border=\"1\" class=\"dataframe\">\n",
       "  <thead>\n",
       "    <tr style=\"text-align: right;\">\n",
       "      <th>Outs</th>\n",
       "      <th>0</th>\n",
       "      <th>1</th>\n",
       "      <th>2</th>\n",
       "      <th>3</th>\n",
       "      <th>All</th>\n",
       "    </tr>\n",
       "    <tr>\n",
       "      <th>Batter</th>\n",
       "      <th></th>\n",
       "      <th></th>\n",
       "      <th></th>\n",
       "      <th></th>\n",
       "      <th></th>\n",
       "    </tr>\n",
       "  </thead>\n",
       "  <tbody>\n",
       "    <tr>\n",
       "      <th>A.J. Burnett</th>\n",
       "      <td>0</td>\n",
       "      <td>0</td>\n",
       "      <td>6</td>\n",
       "      <td>0</td>\n",
       "      <td>6</td>\n",
       "    </tr>\n",
       "    <tr>\n",
       "      <th>A.J. Pollock</th>\n",
       "      <td>6</td>\n",
       "      <td>7</td>\n",
       "      <td>7</td>\n",
       "      <td>16</td>\n",
       "      <td>36</td>\n",
       "    </tr>\n",
       "    <tr>\n",
       "      <th>Adam LaRoche</th>\n",
       "      <td>4</td>\n",
       "      <td>7</td>\n",
       "      <td>21</td>\n",
       "      <td>3</td>\n",
       "      <td>35</td>\n",
       "    </tr>\n",
       "    <tr>\n",
       "      <th>Adeiny Hechavarria</th>\n",
       "      <td>0</td>\n",
       "      <td>5</td>\n",
       "      <td>2</td>\n",
       "      <td>2</td>\n",
       "      <td>9</td>\n",
       "    </tr>\n",
       "    <tr>\n",
       "      <th>Alex Gonzalez</th>\n",
       "      <td>0</td>\n",
       "      <td>0</td>\n",
       "      <td>5</td>\n",
       "      <td>0</td>\n",
       "      <td>5</td>\n",
       "    </tr>\n",
       "    <tr>\n",
       "      <th>...</th>\n",
       "      <td>...</td>\n",
       "      <td>...</td>\n",
       "      <td>...</td>\n",
       "      <td>...</td>\n",
       "      <td>...</td>\n",
       "    </tr>\n",
       "    <tr>\n",
       "      <th>Yovani Gallardo</th>\n",
       "      <td>0</td>\n",
       "      <td>1</td>\n",
       "      <td>0</td>\n",
       "      <td>6</td>\n",
       "      <td>7</td>\n",
       "    </tr>\n",
       "    <tr>\n",
       "      <th>Yunel Escobar</th>\n",
       "      <td>3</td>\n",
       "      <td>0</td>\n",
       "      <td>11</td>\n",
       "      <td>0</td>\n",
       "      <td>14</td>\n",
       "    </tr>\n",
       "    <tr>\n",
       "      <th>Yuniesky Betancourt</th>\n",
       "      <td>2</td>\n",
       "      <td>10</td>\n",
       "      <td>11</td>\n",
       "      <td>0</td>\n",
       "      <td>23</td>\n",
       "    </tr>\n",
       "    <tr>\n",
       "      <th>Zachary Cozart</th>\n",
       "      <td>4</td>\n",
       "      <td>0</td>\n",
       "      <td>8</td>\n",
       "      <td>10</td>\n",
       "      <td>22</td>\n",
       "    </tr>\n",
       "    <tr>\n",
       "      <th>All</th>\n",
       "      <td>349</td>\n",
       "      <td>1081</td>\n",
       "      <td>1093</td>\n",
       "      <td>879</td>\n",
       "      <td>3402</td>\n",
       "    </tr>\n",
       "  </tbody>\n",
       "</table>\n",
       "<p>207 rows × 5 columns</p>\n",
       "</div>"
      ],
      "text/plain": [
       "Outs                   0     1     2    3   All\n",
       "Batter                                         \n",
       "A.J. Burnett           0     0     6    0     6\n",
       "A.J. Pollock           6     7     7   16    36\n",
       "Adam LaRoche           4     7    21    3    35\n",
       "Adeiny Hechavarria     0     5     2    2     9\n",
       "Alex Gonzalez          0     0     5    0     5\n",
       "...                  ...   ...   ...  ...   ...\n",
       "Yovani Gallardo        0     1     0    6     7\n",
       "Yunel Escobar          3     0    11    0    14\n",
       "Yuniesky Betancourt    2    10    11    0    23\n",
       "Zachary Cozart         4     0     8   10    22\n",
       "All                  349  1081  1093  879  3402\n",
       "\n",
       "[207 rows x 5 columns]"
      ]
     },
     "execution_count": 68,
     "metadata": {},
     "output_type": "execute_result"
    }
   ],
   "source": [
    "pd.crosstab(index=df['Batter'],columns=df['Outs'],margins=True)"
   ]
  },
  {
   "cell_type": "markdown",
   "id": "bd473a07",
   "metadata": {},
   "source": [
    "this shows which batter is best for him as it displays who batters with the number of outs he got"
   ]
  },
  {
   "cell_type": "markdown",
   "id": "c82a98c5",
   "metadata": {},
   "source": [
    "## Part Five "
   ]
  },
  {
   "cell_type": "code",
   "execution_count": null,
   "id": "a480d6c7",
   "metadata": {},
   "outputs": [],
   "source": []
  },
  {
   "cell_type": "code",
   "execution_count": null,
   "id": "f14e6a34",
   "metadata": {},
   "outputs": [],
   "source": []
  }
 ],
 "metadata": {
  "kernelspec": {
   "display_name": "Python 3 (ipykernel)",
   "language": "python",
   "name": "python3"
  },
  "language_info": {
   "codemirror_mode": {
    "name": "ipython",
    "version": 3
   },
   "file_extension": ".py",
   "mimetype": "text/x-python",
   "name": "python",
   "nbconvert_exporter": "python",
   "pygments_lexer": "ipython3",
   "version": "3.9.7"
  }
 },
 "nbformat": 4,
 "nbformat_minor": 5
}
